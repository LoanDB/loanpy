{
 "cells": [
  {
   "cell_type": "markdown",
   "id": "7c13c5e6",
   "metadata": {},
   "source": [
    "# SOUND CORRESPONDENCE MINER"
   ]
  },
  {
   "cell_type": "code",
   "execution_count": 1,
   "id": "710da4cc",
   "metadata": {},
   "outputs": [
    {
     "data": {
      "text/plain": [
       "[{'a': ['c'], 'b': ['d']},\n",
       " {'a c': 1, 'b d': 1},\n",
       " {'a c': [1], 'b d': [1]},\n",
       " {'VC': ['CC']},\n",
       " {'VC CC': 1},\n",
       " {'VC CC': [1]}]"
      ]
     },
     "execution_count": 1,
     "metadata": {},
     "output_type": "execute_result"
    }
   ],
   "source": [
    "from loanpy.scminer import get_correspondences\n",
    "\n",
    "input_table = [\n",
    "\n",
    "    ['ID', 'COGID', 'DOCULECT', 'ALIGNMENT', 'PROSODY'],\n",
    "\n",
    "    ['0', '1', 'LG1', 'a b', 'VC'],\n",
    "\n",
    "    ['1', '1', 'LG2', 'c d', 'CC']\n",
    "\n",
    "]\n",
    "\n",
    "get_correspondences(input_table)"
   ]
  },
  {
   "cell_type": "code",
   "execution_count": null,
   "id": "5dd8ad18",
   "metadata": {},
   "outputs": [],
   "source": [
    "from loanpy.scminer import get_heur\n",
    "\n",
    "get_heur(\"eng\")"
   ]
  },
  {
   "cell_type": "code",
   "execution_count": 3,
   "id": "c3f07007",
   "metadata": {},
   "outputs": [
    {
     "data": {
      "text/plain": [
       "['VCCVC', 'VCVCV', 'VCVC']"
      ]
     },
     "execution_count": 3,
     "metadata": {},
     "output_type": "execute_result"
    }
   ],
   "source": [
    "from loanpy.scminer import get_prosodic_inventory\n",
    "\n",
    "\n",
    "data = [  ['ID', 'COGID', 'DOCULECT', 'ALIGNMENT', 'PROSODY'],\n",
    "\n",
    "  [0, 1, 'H', '#aː t͡ʃ# -#', 'VC'],\n",
    "\n",
    "  [1, 1, 'EAH', 'a.ɣ.a t͡ʃ i', 'VCVCV'],\n",
    "\n",
    "  [2, 2, 'H', '#aː ɟ uː#', 'VCV'],\n",
    "\n",
    "  [3, 2, 'EAH', 'a l.d a.ɣ', 'VCCVC'],\n",
    "\n",
    "  [4, 3, 'H', '#ɒ j n', 'VCC'],\n",
    "\n",
    "  [5, 3, 'EAH', 'a j.a n', 'VCVC']\n",
    "\n",
    "]\n",
    "\n",
    "get_prosodic_inventory(data)"
   ]
  },
  {
   "cell_type": "code",
   "execution_count": 5,
   "id": "b438931e",
   "metadata": {},
   "outputs": [
    {
     "name": "stdout",
     "output_type": "stream",
     "text": [
      "#a\tb\tc#\t-#\n",
      "f\tg\th\tijk\n"
     ]
    }
   ],
   "source": [
    "from loanpy.scminer import uralign\n",
    "\n",
    "print(uralign(\"a b c\", \"f g h i j k\").replace(\" \", \"\\t\"))"
   ]
  },
  {
   "cell_type": "markdown",
   "id": "8f5df06c",
   "metadata": {},
   "source": [
    "# SOUND CORRESPONDENCE MINER"
   ]
  },
  {
   "cell_type": "code",
   "execution_count": 7,
   "id": "b2b0c78c",
   "metadata": {},
   "outputs": [
    {
     "data": {
      "text/plain": [
       "[{'d': ['d', 't'], 'a': ['a', 'o']},\n",
       " {'d d': 5, 'd t': 4, 'a a': 7, 'a o': 1},\n",
       " {},\n",
       " {'CVCV': ['CVC']}]"
      ]
     },
     "execution_count": 7,
     "metadata": {},
     "output_type": "execute_result"
    }
   ],
   "source": [
    "from loanpy.scapplier import Adrc\n",
    "\n",
    "adrc = Adrc(\"examples/sc2.json\", \"examples/inv.json\")\n",
    "\n",
    "adrc.sc"
   ]
  },
  {
   "cell_type": "code",
   "execution_count": 8,
   "id": "7e65eabb",
   "metadata": {},
   "outputs": [
    {
     "data": {
      "text/plain": [
       "['CV', 'CVV']"
      ]
     },
     "execution_count": 8,
     "metadata": {},
     "output_type": "execute_result"
    }
   ],
   "source": [
    "adrc.prosodic_inventory"
   ]
  },
  {
   "cell_type": "code",
   "execution_count": 9,
   "id": "05d13f3c",
   "metadata": {},
   "outputs": [
    {
     "data": {
      "text/plain": [
       "['dada']"
      ]
     },
     "execution_count": 9,
     "metadata": {},
     "output_type": "execute_result"
    }
   ],
   "source": [
    "from loanpy.scapplier import Adrc\n",
    "\n",
    "adrc = Adrc(\"examples/sc2.json\", \"examples/inv.json\")\n",
    "\n",
    "adrc.adapt(\"d a d a\")"
   ]
  },
  {
   "cell_type": "code",
   "execution_count": 10,
   "id": "0f63acd3",
   "metadata": {},
   "outputs": [
    {
     "data": {
      "text/plain": [
       "['dada', 'data', 'doda', 'dota', 'tada']"
      ]
     },
     "execution_count": 10,
     "metadata": {},
     "output_type": "execute_result"
    }
   ],
   "source": [
    "adrc.adapt(\"d a d a\", 5)"
   ]
  },
  {
   "cell_type": "code",
   "execution_count": 11,
   "id": "cbd9577e",
   "metadata": {},
   "outputs": [
    {
     "data": {
      "text/plain": [
       "['dad', 'dat', 'dod', 'dot', 'tad']"
      ]
     },
     "execution_count": 11,
     "metadata": {},
     "output_type": "execute_result"
    }
   ],
   "source": [
    "adrc.adapt(\"d a d a\", 5, \"CVCV\")  # sc2.json says CVCV to CVC"
   ]
  },
  {
   "cell_type": "code",
   "execution_count": 12,
   "id": "353a6edb",
   "metadata": {},
   "outputs": [
    {
     "data": {
      "text/plain": [
       "['da', 'do', 'ta', 'to']"
      ]
     },
     "execution_count": 12,
     "metadata": {},
     "output_type": "execute_result"
    }
   ],
   "source": [
    "adrc.adapt(\"d a d\", 5, \"CVC\")   # no info on CVC in sc2.json"
   ]
  },
  {
   "cell_type": "code",
   "execution_count": 15,
   "id": "ba2896df",
   "metadata": {},
   "outputs": [
    {
     "data": {
      "text/plain": [
       "'CV'"
      ]
     },
     "execution_count": 15,
     "metadata": {},
     "output_type": "execute_result"
    }
   ],
   "source": [
    "from loanpy.scapplier import Adrc\n",
    "\n",
    "adrc = Adrc(\"examples/sc2.json\", \"examples/inv.json\")\n",
    "\n",
    "adrc.get_closest_phonotactics(\"CVC\")"
   ]
  },
  {
   "cell_type": "code",
   "execution_count": 16,
   "id": "697747e7",
   "metadata": {},
   "outputs": [
    {
     "data": {
      "text/plain": [
       "'CVV'"
      ]
     },
     "execution_count": 16,
     "metadata": {},
     "output_type": "execute_result"
    }
   ],
   "source": [
    "adrc.get_closest_phonotactics(\"CVCV\")"
   ]
  },
  {
   "cell_type": "code",
   "execution_count": 17,
   "id": "eeb008d0",
   "metadata": {},
   "outputs": [
    {
     "data": {
      "text/plain": [
       "[1, 1, 1, 1]"
      ]
     },
     "execution_count": 17,
     "metadata": {},
     "output_type": "execute_result"
    }
   ],
   "source": [
    "from loanpy.scapplier import Adrc\n",
    "\n",
    "adrc = Adrc()\n",
    "\n",
    "adrc.set_sc([{}, {\"k k\": 2, \"k c\": 1, \"i e\": 2, \"i o\": 1}, {}, {}, {}, {}, {}])\n",
    "\n",
    "sclistlist = [[\"k\", \"c\", \"$\"], [\"e\", \"o\", \"$\"], [\"k\", \"c\", \"$\"], [\"e\", \"o\", \"$\"]]\n",
    "\n",
    "adrc.get_diff(sclistlist, [\"k\", \"i\", \"k\", \"i\"])"
   ]
  },
  {
   "cell_type": "code",
   "execution_count": 18,
   "id": "ad09babc",
   "metadata": {},
   "outputs": [
    {
     "data": {
      "text/plain": [
       "[['k'], ['e', 'o']]"
      ]
     },
     "execution_count": 18,
     "metadata": {},
     "output_type": "execute_result"
    }
   ],
   "source": [
    "from loanpy.scapplier import Adrc\n",
    "\n",
    "adrc = Adrc()\n",
    "\n",
    "adrc.set_sc([{\"k\": [\"k\", \"h\"], \"i\": [\"e\", \"o\"]},\n",
    "\n",
    "             {\"k k\": 5, \"k c\": 3, \"i e\": 2, \"i o\": 1},\n",
    "\n",
    "             {}, {}, {}, {}, {}])\n",
    "\n",
    "sclistlist = [[\"k\", \"c\", \"$\"], [\"e\", \"o\", \"$\"], [\"k\", \"c\", \"$\"], [\"e\", \"o\", \"$\"]]\n",
    "\n",
    "adrc.read_sc([\"k\", \"i\"], 2)"
   ]
  },
  {
   "cell_type": "code",
   "execution_count": 19,
   "id": "2bff6eae",
   "metadata": {},
   "outputs": [
    {
     "data": {
      "text/plain": [
       "'^(d)(a)(d)(a)$'"
      ]
     },
     "execution_count": 19,
     "metadata": {},
     "output_type": "execute_result"
    }
   ],
   "source": [
    "from loanpy.scapplier import Adrc\n",
    "\n",
    "adrc = Adrc(\"examples/sc2.json\", \"examples/inv.json\")\n",
    "\n",
    "adrc.reconstruct(\"d a d a\")"
   ]
  },
  {
   "cell_type": "code",
   "execution_count": 20,
   "id": "f17a7b94",
   "metadata": {},
   "outputs": [
    {
     "data": {
      "text/plain": [
       "'^(d|t)(a|o)(d|t)(a|o)$'"
      ]
     },
     "execution_count": 20,
     "metadata": {},
     "output_type": "execute_result"
    }
   ],
   "source": [
    "adrc.reconstruct(\"d a d a\", 1000)"
   ]
  },
  {
   "cell_type": "code",
   "execution_count": 21,
   "id": "7675c896",
   "metadata": {},
   "outputs": [
    {
     "data": {
      "text/plain": [
       "'l not old'"
      ]
     },
     "execution_count": 21,
     "metadata": {},
     "output_type": "execute_result"
    }
   ],
   "source": [
    "adrc.reconstruct(\"l a l a\")"
   ]
  },
  {
   "cell_type": "code",
   "execution_count": 22,
   "id": "3bcd5bfd",
   "metadata": {},
   "outputs": [
    {
     "data": {
      "text/plain": [
       "['d', 'a', 'd']"
      ]
     },
     "execution_count": 22,
     "metadata": {},
     "output_type": "execute_result"
    }
   ],
   "source": [
    "from loanpy.scapplier import Adrc\n",
    "\n",
    "adrc = Adrc(\"examples/sc2.json\", \"examples/inv.json\")\n",
    "\n",
    "adrc.repair_phonotactics([\"d\", \"a\", \"d\", \"a\"], \"CVCV\")"
   ]
  },
  {
   "cell_type": "code",
   "execution_count": 24,
   "id": "c12f0e4c",
   "metadata": {},
   "outputs": [
    {
     "data": {
      "text/plain": [
       "'rofl'"
      ]
     },
     "execution_count": 24,
     "metadata": {},
     "output_type": "execute_result"
    }
   ],
   "source": [
    "from loanpy.scapplier import Adrc\n",
    "\n",
    "adrc = Adrc(\"examples/sc2.json\", \"examples/inv.json\")\n",
    "\n",
    "adrc.set_prosodic_inventory(\"rofl\")\n",
    "\n",
    "adrc.prosodic_inventory"
   ]
  },
  {
   "cell_type": "code",
   "execution_count": 25,
   "id": "a2ed589d",
   "metadata": {},
   "outputs": [
    {
     "data": {
      "text/plain": [
       "'lol'"
      ]
     },
     "execution_count": 25,
     "metadata": {},
     "output_type": "execute_result"
    }
   ],
   "source": [
    "from loanpy.scapplier import Adrc\n",
    "\n",
    "adrc = Adrc(\"examples/sc2.json\", \"examples/inv.json\")\n",
    "\n",
    "adrc.set_sc(\"lol\")\n",
    "\n",
    "adrc.sc"
   ]
  },
  {
   "cell_type": "code",
   "execution_count": 26,
   "id": "4aafbd40",
   "metadata": {},
   "outputs": [
    {
     "data": {
      "text/plain": [
       "{'A': {'B': 3, 'C': 7}}"
      ]
     },
     "execution_count": 26,
     "metadata": {},
     "output_type": "execute_result"
    }
   ],
   "source": [
    "from loanpy.scapplier import add_edge\n",
    "\n",
    "graph = {'A': {'B': 3}}\n",
    "\n",
    "add_edge(graph, 'A', 'C', 7)\n",
    "\n",
    "graph"
   ]
  },
  {
   "cell_type": "code",
   "execution_count": 27,
   "id": "ac75939b",
   "metadata": {},
   "outputs": [
    {
     "data": {
      "text/plain": [
       "['d', 'u', 'n', 'ɒ', 'p', 'ɒ', 'r', 't']"
      ]
     },
     "execution_count": 27,
     "metadata": {},
     "output_type": "execute_result"
    }
   ],
   "source": [
    "from loanpy.scapplier import apply_edit\n",
    "\n",
    "apply_edit(\n",
    "\n",
    "      ['f', 'ɛ', 'r', 'i', 'h', 'ɛ', 'ɟ'],\n",
    "\n",
    "      ('insert d',\n",
    "\n",
    "       'insert u',\n",
    "\n",
    "       'insert n',\n",
    "\n",
    "       'insert ɒ',\n",
    "\n",
    "       'insert p',\n",
    "\n",
    "       'substitute f by ɒ',\n",
    "\n",
    "       'delete ɛ',\n",
    "\n",
    "       'keep r',\n",
    "\n",
    "       'delete i',\n",
    "\n",
    "       'delete h',\n",
    "\n",
    "       'delete ɛ',\n",
    "\n",
    "       'substitute ɟ by t')\n",
    "\n",
    ")"
   ]
  },
  {
   "cell_type": "code",
   "execution_count": 28,
   "id": "e35a18ad",
   "metadata": {},
   "outputs": [
    {
     "data": {
      "text/plain": [
       "['A', 'B', 'C', 'D']"
      ]
     },
     "execution_count": 28,
     "metadata": {},
     "output_type": "execute_result"
    }
   ],
   "source": [
    "from loanpy.scapplier import dijkstra\n",
    "\n",
    "graph1 = {\n",
    "\n",
    "        'A': {'B': 1, 'C': 4},\n",
    "\n",
    "        'B': {'C': 2, 'D': 6},\n",
    "\n",
    "        'C': {'D': 3},\n",
    "\n",
    "        'D': {}\n",
    "\n",
    "    }\n",
    "\n",
    "dijkstra(graph1, 'A', 'D')"
   ]
  },
  {
   "cell_type": "code",
   "execution_count": 29,
   "id": "df8dcc5c",
   "metadata": {},
   "outputs": [
    {
     "data": {
      "text/plain": [
       "100"
      ]
     },
     "execution_count": 29,
     "metadata": {},
     "output_type": "execute_result"
    }
   ],
   "source": [
    "from loanpy.scapplier import edit_distance_with2ops\n",
    "\n",
    "edit_distance_with2ops(\"rajka\", \"ajka\", w_del=100, w_ins=49)"
   ]
  },
  {
   "cell_type": "code",
   "execution_count": 30,
   "id": "21d3bcc1",
   "metadata": {},
   "outputs": [
    {
     "data": {
      "text/plain": [
       "49"
      ]
     },
     "execution_count": 30,
     "metadata": {},
     "output_type": "execute_result"
    }
   ],
   "source": [
    "edit_distance_with2ops(\"ajka\", \"rajka\", w_del=100, w_ins=49)"
   ]
  },
  {
   "cell_type": "code",
   "execution_count": 31,
   "id": "ba6291fa",
   "metadata": {},
   "outputs": [
    {
     "data": {
      "text/plain": [
       "149"
      ]
     },
     "execution_count": 31,
     "metadata": {},
     "output_type": "execute_result"
    }
   ],
   "source": [
    "edit_distance_with2ops(\"Bécs\", \"Pécs\", w_del=100, w_ins=49)"
   ]
  },
  {
   "cell_type": "code",
   "execution_count": 32,
   "id": "7f72b45a",
   "metadata": {},
   "outputs": [
    {
     "data": {
      "text/plain": [
       "1388"
      ]
     },
     "execution_count": 32,
     "metadata": {},
     "output_type": "execute_result"
    }
   ],
   "source": [
    "edit_distance_with2ops(\"Hegyeshalom\", \"Mosonmagyaróvár\", w_del=100, w_ins=49)"
   ]
  },
  {
   "cell_type": "code",
   "execution_count": 33,
   "id": "84a41b8f",
   "metadata": {},
   "outputs": [
    {
     "data": {
      "text/plain": [
       "[[0, 1, 2, 3, 4],\n",
       " [1, 2, 3, 4, 5],\n",
       " [2, 3, 2, 3, 4],\n",
       " [3, 4, 3, 2, 3],\n",
       " [4, 5, 4, 3, 2]]"
      ]
     },
     "execution_count": 33,
     "metadata": {},
     "output_type": "execute_result"
    }
   ],
   "source": [
    "from loanpy.scapplier import get_mtx\n",
    "\n",
    "get_mtx(\"Bécs\", \"Pécs\")"
   ]
  },
  {
   "cell_type": "code",
   "execution_count": 34,
   "id": "1e78fb50",
   "metadata": {},
   "outputs": [
    {
     "data": {
      "text/plain": [
       "'(b|k|v)?'"
      ]
     },
     "execution_count": 34,
     "metadata": {},
     "output_type": "execute_result"
    }
   ],
   "source": [
    "from loanpy.scapplier import list2regex\n",
    "\n",
    "list2regex([\"b\", \"k\", \"-\", \"v\"])"
   ]
  },
  {
   "cell_type": "code",
   "execution_count": 35,
   "id": "e3d79cd6",
   "metadata": {},
   "outputs": [
    {
     "data": {
      "text/plain": [
       "([['x']], [['x']])"
      ]
     },
     "execution_count": 35,
     "metadata": {},
     "output_type": "execute_result"
    }
   ],
   "source": [
    "from loanpy.scapplier import move_sc\n",
    "\n",
    "move_sc([[\"x\", \"x\"]], 0, [[]])"
   ]
  },
  {
   "cell_type": "code",
   "execution_count": 36,
   "id": "43ad5ead",
   "metadata": {},
   "outputs": [
    {
     "data": {
      "text/plain": [
       "([['x', 'x'], ['y'], ['z']], [['a'], ['b', 'y'], ['c']])"
      ]
     },
     "execution_count": 36,
     "metadata": {},
     "output_type": "execute_result"
    }
   ],
   "source": [
    "move_sc([[\"x\", \"x\"], [\"y\", \"y\"], [\"z\"]], 1, [[\"a\"], [\"b\"], [\"c\"]])"
   ]
  },
  {
   "cell_type": "code",
   "execution_count": 37,
   "id": "38fc4987",
   "metadata": {},
   "outputs": [
    {
     "data": {
      "text/plain": [
       "{(0, 0): {(0, 1): 100, (1, 0): 49},\n",
       " (0, 1): {(0, 2): 100, (1, 1): 49},\n",
       " (0, 2): {(1, 2): 49},\n",
       " (1, 0): {(1, 1): 100, (2, 0): 49},\n",
       " (1, 1): {(1, 2): 100, (2, 1): 49, (2, 2): 0},\n",
       " (1, 2): {(2, 2): 49},\n",
       " (2, 0): {(2, 1): 100},\n",
       " (2, 1): {(2, 2): 100},\n",
       " (2, 2): {}}"
      ]
     },
     "execution_count": 37,
     "metadata": {},
     "output_type": "execute_result"
    }
   ],
   "source": [
    "from loanpy.scapplier import mtx2graph\n",
    "\n",
    "mtx2graph([[0, 1, 2], [1, 2, 3], [2, 3, 2]])"
   ]
  },
  {
   "cell_type": "code",
   "execution_count": 38,
   "id": "23ee6e68",
   "metadata": {},
   "outputs": [
    {
     "data": {
      "text/plain": [
       "['substitute B by A', 'insert C']"
      ]
     },
     "execution_count": 38,
     "metadata": {},
     "output_type": "execute_result"
    }
   ],
   "source": [
    "from loanpy.scapplier import substitute_operations\n",
    "\n",
    "substitute_operations(['insert A', 'delete B', 'insert C'])"
   ]
  },
  {
   "cell_type": "code",
   "execution_count": 39,
   "id": "01864bcf",
   "metadata": {},
   "outputs": [
    {
     "data": {
      "text/plain": [
       "['substitute A by B', 'substitute C by D']"
      ]
     },
     "execution_count": 39,
     "metadata": {},
     "output_type": "execute_result"
    }
   ],
   "source": [
    "substitute_operations(['delete A', 'insert B', 'delete C', 'insert D'])"
   ]
  },
  {
   "cell_type": "code",
   "execution_count": 40,
   "id": "9fa5f65d",
   "metadata": {},
   "outputs": [
    {
     "data": {
      "text/plain": [
       "['substitute l by h', 'keep ó']"
      ]
     },
     "execution_count": 40,
     "metadata": {},
     "output_type": "execute_result"
    }
   ],
   "source": [
    "from loanpy.scapplier import tuples2editops\n",
    "\n",
    "tuples2editops([(0, 0), (0, 1), (1, 1), (2, 2)], \"ló\", \"hó\")"
   ]
  },
  {
   "cell_type": "code",
   "execution_count": 41,
   "id": "85288cf1",
   "metadata": {},
   "outputs": [
    {
     "data": {
      "text/plain": [
       "['keep l', 'keep ó', 'delete h']"
      ]
     },
     "execution_count": 41,
     "metadata": {},
     "output_type": "execute_result"
    }
   ],
   "source": [
    "tuples2editops([(0, 0), (1, 1), (2, 2), (2, 3)], \"lóh\", \"ló\")"
   ]
  },
  {
   "cell_type": "markdown",
   "id": "c92e3c16",
   "metadata": {},
   "source": [
    "# EVALUATE SOUND CORRESPONDENCE APPLIER"
   ]
  },
  {
   "cell_type": "code",
   "execution_count": 42,
   "id": "f21f9948",
   "metadata": {},
   "outputs": [
    {
     "data": {
      "text/plain": [
       "[(0.33, 0.0), (0.67, 1.0), (1.0, 1.0)]"
      ]
     },
     "execution_count": 42,
     "metadata": {},
     "output_type": "execute_result"
    }
   ],
   "source": [
    "from loanpy.eval_sca import eval_all\n",
    "\n",
    "intable = [  ['ID', 'COGID', 'DOCULECT', 'ALIGNMENT', 'PROSODY'],\n",
    "\n",
    "  ['0', '1', 'H', 'k i k i', 'VC'],\n",
    "\n",
    "  ['1', '1', 'EAH', 'k i g i', 'VCVCV'],\n",
    "\n",
    "  ['2', '2', 'H', 'i k k i', 'VCV'],\n",
    "\n",
    "  ['3', '2', 'EAH', 'i g k i', 'VCCVC']\n",
    "\n",
    "]\n",
    "\n",
    "\n",
    "eval_all(intable, \"\", False, [1, 2, 3])"
   ]
  },
  {
   "cell_type": "code",
   "execution_count": 43,
   "id": "36586858",
   "metadata": {},
   "outputs": [
    {
     "data": {
      "text/plain": [
       "1.0"
      ]
     },
     "execution_count": 43,
     "metadata": {},
     "output_type": "execute_result"
    }
   ],
   "source": [
    "from loanpy.eval_sca import eval_one\n",
    "\n",
    "intable = [  # regular sound correspondences\n",
    "\n",
    "    ['ID', 'COGID', 'DOCULECT', 'ALIGNMENT', 'PROSODY'],\n",
    "\n",
    "    ['0', '1', 'H', 'k i k i', 'VC'],\n",
    "\n",
    "    ['1', '1', 'EAH', 'g i g i', 'VCVCV'],\n",
    "\n",
    "    ['2', '2', 'H', 'i k k i', 'VCV'],\n",
    "\n",
    "    ['3', '2', 'EAH', 'i g g i', 'VCCVC']\n",
    "\n",
    "]\n",
    "\n",
    "eval_one(intable, \"\", False, 1)"
   ]
  },
  {
   "cell_type": "code",
   "execution_count": 44,
   "id": "f4534490",
   "metadata": {},
   "outputs": [
    {
     "data": {
      "text/plain": [
       "0.0"
      ]
     },
     "execution_count": 44,
     "metadata": {},
     "output_type": "execute_result"
    }
   ],
   "source": [
    "intable = [  # not enough regular sound correspondences\n",
    "\n",
    "  ['ID', 'COGID', 'DOCULECT', 'ALIGNMENT', 'PROSODY'],\n",
    "\n",
    "  ['0', '1', 'H', 'k i k i', 'VC'],\n",
    "\n",
    "  ['1', '1', 'EAH', 'g i g i', 'VCVCV'],\n",
    "\n",
    "  ['2', '2', 'H', 'b u b a', 'VCV'],\n",
    "\n",
    "  ['3', '2', 'EAH', 'p u p a', 'VCCVC']\n",
    "\n",
    "]\n",
    "\n",
    "eval_one(intable, \"\", False, 1)"
   ]
  },
  {
   "cell_type": "code",
   "execution_count": 45,
   "id": "6744b6a0",
   "metadata": {},
   "outputs": [
    {
     "data": {
      "text/plain": [
       "0.0"
      ]
     },
     "execution_count": 45,
     "metadata": {},
     "output_type": "execute_result"
    }
   ],
   "source": [
    "intable = [  # irregular sound correspondences\n",
    "\n",
    "  ['ID', 'COGID', 'DOCULECT', 'ALIGNMENT', 'PROSODY'],\n",
    "\n",
    "  ['0', '1', 'H', 'k i k i', 'VC'],\n",
    "\n",
    "  ['1', '1', 'EAH', 'k i g i', 'VCVCV'],\n",
    "\n",
    "  ['2', '2', 'H', 'i k k i', 'VCV'],\n",
    "\n",
    "  ['3', '2', 'EAH', 'i g k i', 'VCCVC']\n",
    "\n",
    "]\n",
    "\n",
    "eval_one(intable, \"\", False, 1)"
   ]
  },
  {
   "cell_type": "code",
   "execution_count": 46,
   "id": "3431acc6",
   "metadata": {},
   "outputs": [
    {
     "data": {
      "text/plain": [
       "1.0"
      ]
     },
     "execution_count": 46,
     "metadata": {},
     "output_type": "execute_result"
    }
   ],
   "source": [
    "intable = [  # irregular sound correspondences\n",
    "\n",
    "  ['ID', 'COGID', 'DOCULECT', 'ALIGNMENT', 'PROSODY'],\n",
    "\n",
    "  ['0', '1', 'H', 'k i k i', 'VC'],\n",
    "\n",
    "  ['1', '1', 'EAH', 'k i g i', 'VCVCV'],\n",
    "\n",
    "  ['2', '2', 'H', 'i k k i', 'VCV'],\n",
    "\n",
    "  ['3', '2', 'EAH', 'i g k i', 'VCCVC']\n",
    "\n",
    "]\n",
    "\n",
    "eval_one(intable, \"\", False, 2)  # increase rate of false positives"
   ]
  },
  {
   "cell_type": "markdown",
   "id": "57a9eda7",
   "metadata": {},
   "source": [
    "# LOAN FINDER"
   ]
  },
  {
   "cell_type": "code",
   "execution_count": 48,
   "id": "90a1b572",
   "metadata": {},
   "outputs": [
    {
     "name": "stdout",
     "output_type": "stream",
     "text": [
      "ID\tID_rc\tID_ad\n",
      "0\tRecipientese-0\tDonorese-1\n",
      "\n"
     ]
    }
   ],
   "source": [
    "from loanpy.loanfinder import phonetic_matches\n",
    "\n",
    "donor = [\n",
    "\n",
    "    ['a0', 'Donorese-0', 'igig'],\n",
    "\n",
    "    ['a1', 'Donorese-1', 'iggi']\n",
    "\n",
    "]\n",
    "\n",
    "recipient = [\n",
    "\n",
    "    ['0', 'Recipientese-0', '^(i|u)(g)(g)(i|u)$'],\n",
    "\n",
    "    ['1', 'Recipientese-1', '^(i|u)(i|u)(g)(g)$']\n",
    "\n",
    "]\n",
    "\n",
    "outpath = \"examples/phonetic_matches.tsv\"\n",
    "\n",
    "phonetic_matches(recipient, donor, outpath)\n",
    "\n",
    "with open(outpath, \"r\") as f:\n",
    "\n",
    "    print(f.read())"
   ]
  },
  {
   "cell_type": "code",
   "execution_count": 49,
   "id": "6ed11f29",
   "metadata": {},
   "outputs": [
    {
     "name": "stdout",
     "output_type": "stream",
     "text": [
      "ID\tID_rc\tID_ad\tsemsim\n",
      "0\tRecipientese-0\tDonorese-1\t3\n",
      "\n"
     ]
    }
   ],
   "source": [
    "from loanpy.loanfinder import semantic_matches\n",
    "\n",
    "def getsemsim(x, y):\n",
    "\n",
    "    return 3\n",
    "\n",
    "phmtsv = [\n",
    "\n",
    "    [\"ID\", \"ID_rc\", \"ID_ad\"],\n",
    "\n",
    "    [\"0\", \"Recipientese-0\", \"Donorese-1\", \"cat\", \"dog\"],\n",
    "\n",
    "]\n",
    "\n",
    "outpath = \"examples/phonetic_matches.tsv\"\n",
    "\n",
    "semantic_matches(phmtsv, getsemsim, outpath)\n",
    "\n",
    "with open(outpath, \"r\") as f:\n",
    "\n",
    "    print(f.read())"
   ]
  },
  {
   "cell_type": "markdown",
   "id": "63c79a34",
   "metadata": {},
   "source": [
    "# UTILITY FUNCTIONS"
   ]
  },
  {
   "cell_type": "code",
   "execution_count": 50,
   "id": "008328a3",
   "metadata": {},
   "outputs": [
    {
     "data": {
      "text/plain": [
       "list"
      ]
     },
     "execution_count": 50,
     "metadata": {},
     "output_type": "execute_result"
    }
   ],
   "source": [
    "from loanpy.utils import IPA\n",
    "\n",
    "ipa = IPA()\n",
    "\n",
    "type(ipa.vowels)"
   ]
  },
  {
   "cell_type": "code",
   "execution_count": 51,
   "id": "aad7a38f",
   "metadata": {},
   "outputs": [
    {
     "data": {
      "text/plain": [
       "1464"
      ]
     },
     "execution_count": 51,
     "metadata": {},
     "output_type": "execute_result"
    }
   ],
   "source": [
    "len(ipa.vowels)"
   ]
  },
  {
   "cell_type": "code",
   "execution_count": 52,
   "id": "dd3ba1c0",
   "metadata": {},
   "outputs": [
    {
     "data": {
      "text/plain": [
       "'ʋ̥'"
      ]
     },
     "execution_count": 52,
     "metadata": {},
     "output_type": "execute_result"
    }
   ],
   "source": [
    "ipa.vowels[0]"
   ]
  },
  {
   "cell_type": "code",
   "execution_count": 53,
   "id": "37af4451",
   "metadata": {},
   "outputs": [
    {
     "data": {
      "text/plain": [
       "'r a.u f.l'"
      ]
     },
     "execution_count": 53,
     "metadata": {},
     "output_type": "execute_result"
    }
   ],
   "source": [
    "from loanpy.utils import IPA\n",
    "\n",
    "ipa = IPA()\n",
    "\n",
    "ipa.get_clusters([\"r\", \"a\", \"u\", \"f\", \"l\"])"
   ]
  },
  {
   "cell_type": "code",
   "execution_count": 54,
   "id": "965d45d3",
   "metadata": {},
   "outputs": [
    {
     "data": {
      "text/plain": [
       "'C'"
      ]
     },
     "execution_count": 54,
     "metadata": {},
     "output_type": "execute_result"
    }
   ],
   "source": [
    "from loanpy.utils import IPA\n",
    "\n",
    "ipa = IPA()\n",
    "\n",
    "ipa.get_cv(\"p\")"
   ]
  },
  {
   "cell_type": "code",
   "execution_count": 55,
   "id": "5b9d25b0",
   "metadata": {},
   "outputs": [
    {
     "data": {
      "text/plain": [
       "'V'"
      ]
     },
     "execution_count": 55,
     "metadata": {},
     "output_type": "execute_result"
    }
   ],
   "source": [
    "ipa.get_cv(\"u\")"
   ]
  },
  {
   "cell_type": "code",
   "execution_count": 56,
   "id": "324996bf",
   "metadata": {},
   "outputs": [
    {
     "data": {
      "text/plain": [
       "'CVC'"
      ]
     },
     "execution_count": 56,
     "metadata": {},
     "output_type": "execute_result"
    }
   ],
   "source": [
    "from loanpy.utils import IPA\n",
    "\n",
    "ipa = IPA()\n",
    "\n",
    "ipa.get_prosody(\"l o l\")"
   ]
  },
  {
   "cell_type": "code",
   "execution_count": 57,
   "id": "f06b2f6d",
   "metadata": {},
   "outputs": [
    {
     "data": {
      "text/plain": [
       "'CVCC'"
      ]
     },
     "execution_count": 57,
     "metadata": {},
     "output_type": "execute_result"
    }
   ],
   "source": [
    "ipa.get_prosody(\"r o f.l\")"
   ]
  },
  {
   "cell_type": "code",
   "execution_count": 58,
   "id": "f8b68ac5",
   "metadata": {},
   "outputs": [
    {
     "data": {
      "text/plain": [
       "['b l V', 'b l a']"
      ]
     },
     "execution_count": 58,
     "metadata": {},
     "output_type": "execute_result"
    }
   ],
   "source": [
    "from loanpy.utils import cvgaps\n",
    "\n",
    "cvgaps(\"b l -\", \"b l a\")"
   ]
  },
  {
   "cell_type": "code",
   "execution_count": 59,
   "id": "ed8a56b9",
   "metadata": {},
   "outputs": [
    {
     "data": {
      "text/plain": [
       "['b C a', 'b l a']"
      ]
     },
     "execution_count": 59,
     "metadata": {},
     "output_type": "execute_result"
    }
   ],
   "source": [
    "cvgaps(\"b - a\", \"b l a\")"
   ]
  },
  {
   "cell_type": "code",
   "execution_count": 60,
   "id": "f4f1a6f1",
   "metadata": {},
   "outputs": [
    {
     "data": {
      "text/plain": [
       "1241"
      ]
     },
     "execution_count": 60,
     "metadata": {},
     "output_type": "execute_result"
    }
   ],
   "source": [
    "from loanpy.utils import find_optimal_year_cutoff\n",
    "\n",
    "tsv = [\n",
    "\n",
    "    ['form', 'sense', 'Year', 'Etymology', 'Loan'],\n",
    "\n",
    "    ['gulyás', 'goulash, Hungarian stew', '1800', 'unknown', ''],\n",
    "\n",
    "    ['Tisza', 'a major river in Hungary', '1230', 'uncertain', ''],\n",
    "\n",
    "    ['Pest', 'part of Budapest, the capital', '1241', 'Slavic', 'True'],\n",
    "\n",
    "    ['paprika', 'ground red pepper, spice', '1598', 'Slavic', 'True']\n",
    "\n",
    "]\n",
    "\n",
    "find_optimal_year_cutoff(tsv, \"Slavic\")"
   ]
  },
  {
   "cell_type": "code",
   "execution_count": 61,
   "id": "6acfeec9",
   "metadata": {},
   "outputs": [
    {
     "data": {
      "text/plain": [
       "True"
      ]
     },
     "execution_count": 61,
     "metadata": {},
     "output_type": "execute_result"
    }
   ],
   "source": [
    "from loanpy.utils import is_same_length_alignments\n",
    "\n",
    "is_same_length_alignments([[0, 1, 2, \"a - c\", 4, 5], [0, 1, 2, \"d e f\", 4, 5]])"
   ]
  },
  {
   "cell_type": "code",
   "execution_count": 62,
   "id": "be1431b7",
   "metadata": {},
   "outputs": [
    {
     "name": "stderr",
     "output_type": "stream",
     "text": [
      "2023-04-27 00:58:15,790 - INFO - 0\n",
      "['a', 'b', 'c']\n",
      "['d', 'e']\n"
     ]
    },
    {
     "data": {
      "text/plain": [
       "False"
      ]
     },
     "execution_count": 62,
     "metadata": {},
     "output_type": "execute_result"
    }
   ],
   "source": [
    "is_same_length_alignments([[0, 1, 2, \"a b c\", 4, 5], [0, 1, 2, \"d e\", 4, 5]])"
   ]
  },
  {
   "cell_type": "code",
   "execution_count": 63,
   "id": "b1fad545",
   "metadata": {},
   "outputs": [
    {
     "data": {
      "text/plain": [
       "True"
      ]
     },
     "execution_count": 63,
     "metadata": {},
     "output_type": "execute_result"
    }
   ],
   "source": [
    "from loanpy.utils import is_valid_language_sequence\n",
    "\n",
    "data = [\n",
    "\n",
    "    ['x', 'x', 'de', 'x', 'x', 'x', 'x', 'x', 'x', '0', 'x'],\n",
    "\n",
    "    ['x', 'x', 'en', 'x', 'x', 'x', 'x', 'x', 'x', '0', 'x'],\n",
    "\n",
    "    ['x', 'x', 'de', 'x', 'x', 'x', 'x', 'x', 'x', '1', 'x'],\n",
    "\n",
    "    ['x', 'x', 'en', 'x', 'x', 'x', 'x', 'x', 'x', '1', 'x'],\n",
    "\n",
    "    ['x', 'x', 'de', 'x', 'x', 'x', 'x', 'x', 'x', '6', 'x'],\n",
    "\n",
    "    ['x', 'x', 'en', 'x', 'x', 'x', 'x', 'x', 'x', '6', 'x']\n",
    "\n",
    "]\n",
    "\n",
    "is_valid_language_sequence(data, \"de\", \"en\")"
   ]
  },
  {
   "cell_type": "code",
   "execution_count": 64,
   "id": "99a04f3d",
   "metadata": {},
   "outputs": [
    {
     "name": "stderr",
     "output_type": "stream",
     "text": [
      "2023-04-27 00:58:31,502 - INFO - Problem in row 5\n"
     ]
    },
    {
     "data": {
      "text/plain": [
       "False"
      ]
     },
     "execution_count": 64,
     "metadata": {},
     "output_type": "execute_result"
    }
   ],
   "source": [
    "from loanpy.utils import is_valid_language_sequence\n",
    "\n",
    "data = [\n",
    "\n",
    "    ['x', 'x', 'de', 'x', 'x', 'x', 'x', 'x', 'x', '0', 'x'],\n",
    "\n",
    "    ['x', 'x', 'en', 'x', 'x', 'x', 'x', 'x', 'x', '0', 'x'],\n",
    "\n",
    "    ['x', 'x', 'de', 'x', 'x', 'x', 'x', 'x', 'x', '1', 'x'],\n",
    "\n",
    "    ['x', 'x', 'en', 'x', 'x', 'x', 'x', 'x', 'x', '1', 'x'],\n",
    "\n",
    "    ['x', 'x', 'de', 'x', 'x', 'x', 'x', 'x', 'x', '6', 'x'],\n",
    "\n",
    "    ['x', 'x', 'nl', 'x', 'x', 'x', 'x', 'x', 'x', '6', 'x']\n",
    "\n",
    "]\n",
    "\n",
    "is_valid_language_sequence(data, \"de\", \"en\")"
   ]
  },
  {
   "cell_type": "code",
   "execution_count": 66,
   "id": "9ca31e58",
   "metadata": {},
   "outputs": [
    {
     "data": {
      "text/plain": [
       "[['x', 'x', 'Language_ID', 'x', 'x', 'x', 'x', 'x', 'x', 'Cognacy', 'x'],\n",
       " ['x', 'x', 'de', 'x', 'x', 'x', 'x', 'x', 'x', '0', 'x'],\n",
       " ['x', 'x', 'en', 'x', 'x', 'x', 'x', 'x', 'x', '0', 'x'],\n",
       " ['x', 'x', 'de', 'x', 'x', 'x', 'x', 'x', 'x', '1', 'x'],\n",
       " ['x', 'x', 'en', 'x', 'x', 'x', 'x', 'x', 'x', '1', 'x'],\n",
       " ['x', 'x', 'de', 'x', 'x', 'x', 'x', 'x', 'x', '6', 'x'],\n",
       " ['x', 'x', 'en', 'x', 'x', 'x', 'x', 'x', 'x', '6', 'x']]"
      ]
     },
     "execution_count": 66,
     "metadata": {},
     "output_type": "execute_result"
    }
   ],
   "source": [
    "from loanpy.utils import prefilter\n",
    "\n",
    "data = [\n",
    "\n",
    "    ['x', 'x', 'Language_ID', 'x', 'x', 'x', 'x', 'x', 'x', 'Cognacy', 'x'],\n",
    "\n",
    "    ['x', 'x', 'de', 'x', 'x', 'x', 'x', 'x', 'x', '0', 'x'],\n",
    "\n",
    "    ['x', 'x', 'en', 'x', 'x', 'x', 'x', 'x', 'x', '0', 'x'],\n",
    "\n",
    "    ['x', 'x', 'en', 'x', 'x', 'x', 'x', 'x', 'x', '1', 'x'],\n",
    "\n",
    "    ['x', 'x', 'de', 'x', 'x', 'x', 'x', 'x', 'x', '1', 'x'],\n",
    "\n",
    "    ['x', 'x', 'de', 'x', 'x', 'x', 'x', 'x', 'x', '2', 'x'],\n",
    "\n",
    "    ['x', 'x', 'en', 'x', 'x', 'x', 'x', 'x', 'x', '3', 'x'],\n",
    "\n",
    "    ['x', 'x', 'nl', 'x', 'x', 'x', 'x', 'x', 'x', '4', 'x'],\n",
    "\n",
    "    ['x', 'x', 'de', 'x', 'x', 'x', 'x', 'x', 'x', '4', 'x'],\n",
    "\n",
    "    ['x', 'x', 'nl', 'x', 'x', 'x', 'x', 'x', 'x', '5', 'x'],\n",
    "\n",
    "    ['x', 'x', 'en', 'x', 'x', 'x', 'x', 'x', 'x', '5', 'x'],\n",
    "\n",
    "    ['x', 'x', 'de', 'x', 'x', 'x', 'x', 'x', 'x', '6', 'x'],\n",
    "\n",
    "    ['x', 'x', 'nl', 'x', 'x', 'x', 'x', 'x', 'x', '6', 'x'],\n",
    "\n",
    "    ['x', 'x', 'en', 'x', 'x', 'x', 'x', 'x', 'x', '6', 'x']\n",
    "\n",
    "]\n",
    "\n",
    "prefilter(data, \"de\", \"en\")"
   ]
  },
  {
   "cell_type": "code",
   "execution_count": 67,
   "id": "4b21c88f",
   "metadata": {},
   "outputs": [
    {
     "data": {
      "text/plain": [
       "6"
      ]
     },
     "execution_count": 67,
     "metadata": {},
     "output_type": "execute_result"
    }
   ],
   "source": [
    "from loanpy.utils import prod\n",
    "\n",
    "prod([1, 2, 3])  # one times two times three"
   ]
  },
  {
   "cell_type": "code",
   "execution_count": 68,
   "id": "d4fc91c6",
   "metadata": {},
   "outputs": [
    {
     "data": {
      "text/plain": [
       "list"
      ]
     },
     "execution_count": 68,
     "metadata": {},
     "output_type": "execute_result"
    }
   ],
   "source": [
    "from loanpy.utils import read_ipa_all\n",
    "\n",
    "ipa_all = read_ipa_all()\n",
    "\n",
    "type(ipa_all)"
   ]
  },
  {
   "cell_type": "code",
   "execution_count": 69,
   "id": "e44685e2",
   "metadata": {},
   "outputs": [
    {
     "data": {
      "text/plain": [
       "6490"
      ]
     },
     "execution_count": 69,
     "metadata": {},
     "output_type": "execute_result"
    }
   ],
   "source": [
    "len(ipa_all)"
   ]
  },
  {
   "cell_type": "code",
   "execution_count": 70,
   "id": "7f121200",
   "metadata": {},
   "outputs": [
    {
     "data": {
      "text/plain": [
       "[['ipa',\n",
       "  'syl',\n",
       "  'son',\n",
       "  'cons',\n",
       "  'cont',\n",
       "  'delrel',\n",
       "  'lat',\n",
       "  'nas',\n",
       "  'strid',\n",
       "  'voi',\n",
       "  'sg',\n",
       "  'cg',\n",
       "  'ant',\n",
       "  'cor',\n",
       "  'distr',\n",
       "  'lab',\n",
       "  'hi',\n",
       "  'lo',\n",
       "  'back',\n",
       "  'round',\n",
       "  'velaric',\n",
       "  'tense',\n",
       "  'long',\n",
       "  'hitone',\n",
       "  'hireg'],\n",
       " ['˩',\n",
       "  '0',\n",
       "  '0',\n",
       "  '0',\n",
       "  '0',\n",
       "  '0',\n",
       "  '0',\n",
       "  '0',\n",
       "  '0',\n",
       "  '0',\n",
       "  '0',\n",
       "  '0',\n",
       "  '0',\n",
       "  '0',\n",
       "  '0',\n",
       "  '0',\n",
       "  '0',\n",
       "  '0',\n",
       "  '0',\n",
       "  '0',\n",
       "  '0',\n",
       "  '0',\n",
       "  '0',\n",
       "  '-1',\n",
       "  '-1']]"
      ]
     },
     "execution_count": 70,
     "metadata": {},
     "output_type": "execute_result"
    }
   ],
   "source": [
    "ipa_all[:2]"
   ]
  },
  {
   "cell_type": "code",
   "execution_count": 1,
   "id": "d47d6ca0",
   "metadata": {},
   "outputs": [
    {
     "name": "stdout",
     "output_type": "stream",
     "text": [
      "sc\tsrc\ttgt\tfreq\tCogID\n",
      "a o\ta\to\t1\t512\n",
      "a e\ta\te\t2\t3, 4\n",
      "\n"
     ]
    }
   ],
   "source": [
    "from loanpy.utils import scjson2tsv\n",
    "\n",
    "scjson2tsv(\"examples/sc.json\", \"examples/sc.tsv\", \"examples/sc_p.tsv\")\n",
    "\n",
    "with open(\"examples/sc.tsv\", \"r\") as f:\n",
    "\n",
    "    print(f.read())"
   ]
  },
  {
   "cell_type": "code",
   "execution_count": 2,
   "id": "87e56cb0",
   "metadata": {},
   "outputs": [
    {
     "name": "stdout",
     "output_type": "stream",
     "text": [
      "sc\tsrc\ttgt\tfreq\tCogID\n",
      "CV CV\tCV\tCV\t1\t7\n",
      "\n"
     ]
    }
   ],
   "source": [
    "with open(\"examples/sc_p.tsv\", \"r\") as f:\n",
    "\n",
    "    print(f.read())"
   ]
  },
  {
   "cell_type": "markdown",
   "id": "5cb2c634",
   "metadata": {},
   "source": [
    "# THE END"
   ]
  }
 ],
 "metadata": {
  "kernelspec": {
   "display_name": "Python 3 (ipykernel)",
   "language": "python",
   "name": "python3"
  },
  "language_info": {
   "codemirror_mode": {
    "name": "ipython",
    "version": 3
   },
   "file_extension": ".py",
   "mimetype": "text/x-python",
   "name": "python",
   "nbconvert_exporter": "python",
   "pygments_lexer": "ipython3",
   "version": "3.8.10"
  }
 },
 "nbformat": 4,
 "nbformat_minor": 5
}
