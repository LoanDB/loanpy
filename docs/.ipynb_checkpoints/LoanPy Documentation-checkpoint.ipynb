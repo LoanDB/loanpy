{
 "cells": [
  {
   "cell_type": "markdown",
   "id": "05f1a65c",
   "metadata": {},
   "source": [
    "# SOUND CORRESPONDENCE APPLIER"
   ]
  },
  {
   "cell_type": "code",
   "execution_count": null,
   "id": "dbdc70f8",
   "metadata": {},
   "outputs": [],
   "source": [
    "from loanpy.scapplier import Adrc\n",
    "\n",
    "adrc = Adrc(\"examples/sc2.json\", \"examples/inv.json\")\n",
    "adrc.sc"
   ]
  },
  {
   "cell_type": "code",
   "execution_count": null,
   "id": "df903943",
   "metadata": {},
   "outputs": [],
   "source": [
    "adrc.prosodic_inventory"
   ]
  },
  {
   "cell_type": "code",
   "execution_count": null,
   "id": "cf81483c",
   "metadata": {},
   "outputs": [],
   "source": [
    "adrc.set_sc(\"lol\")\n",
    "adrc.sc"
   ]
  },
  {
   "cell_type": "code",
   "execution_count": null,
   "id": "69a3e9e6",
   "metadata": {},
   "outputs": [],
   "source": [
    "adrc.set_prosodic_inventory(\"rofl\")\n",
    "adrc.prosodic_inventory"
   ]
  },
  {
   "cell_type": "code",
   "execution_count": null,
   "id": "e5561762",
   "metadata": {},
   "outputs": [],
   "source": [
    "from loanpy.scapplier import Adrc\n",
    "\n",
    "adrc = Adrc(\"examples/sc2.json\", \"examples/inv.json\")\n",
    "adrc.adapt(\"d a d a\")"
   ]
  },
  {
   "cell_type": "code",
   "execution_count": null,
   "id": "1a15da25",
   "metadata": {},
   "outputs": [],
   "source": [
    "adrc.adapt(\"d a d a\", 5, \"CVCV\")  # data says CVCV to CVC"
   ]
  },
  {
   "cell_type": "code",
   "execution_count": null,
   "id": "5810aa98",
   "metadata": {},
   "outputs": [],
   "source": [
    "adrc.adapt(\"d a d\", 5, \"CVC\")   # no data for CVC, closest in inventory is CV"
   ]
  },
  {
   "cell_type": "code",
   "execution_count": null,
   "id": "f89b6021",
   "metadata": {},
   "outputs": [],
   "source": [
    "adrc.reconstruct(\"d a d a\")"
   ]
  },
  {
   "cell_type": "code",
   "execution_count": null,
   "id": "5fc25174",
   "metadata": {},
   "outputs": [],
   "source": [
    "adrc.reconstruct(\"d a d a\", 1000)"
   ]
  },
  {
   "cell_type": "code",
   "execution_count": null,
   "id": "9ad70469",
   "metadata": {},
   "outputs": [],
   "source": [
    "adrc.reconstruct(\"l a l a\")"
   ]
  },
  {
   "cell_type": "code",
   "execution_count": null,
   "id": "4bb1c21a",
   "metadata": {},
   "outputs": [],
   "source": [
    "adrc.repair_phonotactics([\"d\", \"a\", \"d\", \"a\"], \"CVCV\")"
   ]
  },
  {
   "cell_type": "code",
   "execution_count": 7,
   "id": "c4309f35",
   "metadata": {},
   "outputs": [
    {
     "data": {
      "text/plain": [
       "[1, 1, 1, 1]"
      ]
     },
     "execution_count": 7,
     "metadata": {},
     "output_type": "execute_result"
    }
   ],
   "source": [
    "adrc.set_sc([{}, {\"k k\": 2, \"k c\": 1, \"i e\": 2, \"i o\": 1}, {}, {}, {}, {}, {}])\n",
    "sclistlist = [[\"k\", \"c\", \"$\"], [\"e\", \"o\", \"$\"], [\"k\", \"c\", \"$\"], [\"e\", \"o\", \"$\"]]\n",
    "adrc.get_diff(sclistlist, [\"k\", \"i\", \"k\", \"i\"])"
   ]
  },
  {
   "cell_type": "code",
   "execution_count": null,
   "id": "a3a91032",
   "metadata": {},
   "outputs": [],
   "source": [
    "from loanpy.scapplier import Adrc\n",
    "\n",
    "adrc = Adrc()\n",
    "\n",
    "adrc.set_sc([{\"k\": [\"k\", \"h\"], \"i\": [\"e\", \"o\"]},\n",
    "             {\"k k\": 5, \"k c\": 3, \"i e\": 2, \"i o\": 1},\n",
    "             {}, {}, {}, {}, {}])\n",
    "sclistlist = [[\"k\", \"c\", \"$\"], [\"e\", \"o\", \"$\"], [\"k\", \"c\", \"$\"], [\"e\", \"o\", \"$\"]]\n",
    "adrc.read_sc([\"k\", \"i\"], 2)\n",
    "# difference between i e and i o = 2 - 1 = 1\n",
    "# and between k k and k c = 5 - 3 = 2\n",
    "# so picking the \"o\" makes less of a difference than the \"c\""
   ]
  },
  {
   "cell_type": "markdown",
   "id": "8d6e6173",
   "metadata": {},
   "source": [
    "# EVALUATE SOUND CORRESPONDENCE APPLIER"
   ]
  },
  {
   "cell_type": "code",
   "execution_count": null,
   "id": "973c1375",
   "metadata": {},
   "outputs": [],
   "source": [
    "from loanpy.eval_sca import eval_one\n",
    "\n",
    "intable = [ # regular sound correspondences\n",
    "  ['ID', 'COGID', 'DOCULECT', 'ALIGNMENT', 'PROSODY'],\n",
    "  ['0', '1', 'H', 'k i k i', 'VC'],\n",
    "  ['1', '1', 'EAH', 'g i g i', 'VCVCV'],\n",
    "  ['2', '2', 'H', 'i k k i', 'VCV'],\n",
    "  ['3', '2', 'EAH', 'i g g i', 'VCCVC']\n",
    "]\n",
    "\n",
    "eval_one(intable, \"\", False, 1)"
   ]
  },
  {
   "cell_type": "code",
   "execution_count": null,
   "id": "9549846f",
   "metadata": {},
   "outputs": [],
   "source": [
    "intable = [ # not enough regular sound correspondences\n",
    "  ['ID', 'COGID', 'DOCULECT', 'ALIGNMENT', 'PROSODY'],\n",
    "  ['0', '1', 'H', 'k i k i', 'VC'],\n",
    "  ['1', '1', 'EAH', 'g i g i', 'VCVCV'],\n",
    "  ['2', '2', 'H', 'b u b a', 'VCV'],\n",
    "  ['3', '2', 'EAH', 'p u p a', 'VCCVC']\n",
    "]\n",
    "\n",
    "eval_one(intable, \"\", False, 1)"
   ]
  },
  {
   "cell_type": "code",
   "execution_count": null,
   "id": "4d52b242",
   "metadata": {},
   "outputs": [],
   "source": [
    "intable = [ # irregular sound correspondences\n",
    "  ['ID', 'COGID', 'DOCULECT', 'ALIGNMENT', 'PROSODY'],\n",
    "  ['0', '1', 'H', 'k i k i', 'VC'],\n",
    "  ['1', '1', 'EAH', 'k i g i', 'VCVCV'],\n",
    "  ['2', '2', 'H', 'i k k i', 'VCV'],\n",
    "  ['3', '2', 'EAH', 'i g k i', 'VCCVC']\n",
    "]\n",
    "\n",
    "eval_one(intable, \"\", False, 1)"
   ]
  },
  {
   "cell_type": "code",
   "execution_count": null,
   "id": "156ae979",
   "metadata": {},
   "outputs": [],
   "source": [
    "intable = [  # irregular sound correspondences\n",
    "  ['ID', 'COGID', 'DOCULECT', 'ALIGNMENT', 'PROSODY'],\n",
    "  ['0', '1', 'H', 'k i k i', 'VC'],\n",
    "  ['1', '1', 'EAH', 'k i g i', 'VCVCV'],\n",
    "  ['2', '2', 'H', 'i k k i', 'VCV'],\n",
    "  ['3', '2', 'EAH', 'i g k i', 'VCCVC']\n",
    "]\n",
    "\n",
    "eval_one(intable, \"\", False, 2)  # increase rate of false positives"
   ]
  },
  {
   "cell_type": "code",
   "execution_count": null,
   "id": "eb46fab6",
   "metadata": {},
   "outputs": [],
   "source": [
    "from loanpy.eval_sca import eval_all\n",
    "\n",
    "intable = [  ['ID', 'COGID', 'DOCULECT', 'ALIGNMENT', 'PROSODY'],\n",
    "  ['0', '1', 'H', 'k i k i', 'VC'],\n",
    "  ['1', '1', 'EAH', 'k i g i', 'VCVCV'],\n",
    "  ['2', '2', 'H', 'i k k i', 'VCV'],\n",
    "  ['3', '2', 'EAH', 'i g k i', 'VCCVC']\n",
    "]\n",
    "\n",
    "eval_all(intable, \"\", False, [1, 2, 3])"
   ]
  },
  {
   "cell_type": "markdown",
   "id": "9f8ce3e2",
   "metadata": {},
   "source": [
    "# LOAN FINDER"
   ]
  },
  {
   "cell_type": "code",
   "execution_count": null,
   "id": "35bfc27b",
   "metadata": {},
   "outputs": [],
   "source": [
    "from loanpy.loanfinder import phonetic_matches\n",
    "\n",
    "donor = [\n",
    "['a0', 'Donorese-0', 'igig'],\n",
    "['a1', 'Donorese-1', 'iggi']\n",
    "]\n",
    "\n",
    "recipient = [\n",
    "['0', 'Recipientese-0', '^(i|u)(g)(g)(i|u)$'],\n",
    "['1', 'Recipientese-1', '^(i|u)(i|u)(g)(g)$']\n",
    "]\n",
    "\n",
    "outpath = \"examples/phonetic_matches.tsv\"\n",
    "\n",
    "phonetic_matches(recipient, donor, outpath)\n",
    "\n",
    "with open(outpath, \"r\") as f:\n",
    "        print(f.read())"
   ]
  },
  {
   "cell_type": "code",
   "execution_count": null,
   "id": "19d380ab",
   "metadata": {},
   "outputs": [],
   "source": [
    "from loanpy.loanfinder import semantic_matches\n",
    "\n",
    "def getsemsim(x, y):\n",
    "    return 0.75\n",
    "\n",
    "phmtsv = [\n",
    "    [\"ID\", \"ID_rc\", \"ID_ad\"],\n",
    "    [\"0\", \"Recipientese-0\", \"Donorese-1\", \"cat\", \"dog\"]\n",
    "]\n",
    "\n",
    "outpath = \"examples/phonetic_matches.tsv\"\n",
    "\n",
    "semantic_matches(phmtsv, getsemsim, outpath)\n",
    "\n",
    "with open(outpath, \"r\") as f:\n",
    "        print(f.read())"
   ]
  },
  {
   "cell_type": "markdown",
   "id": "6f413b61",
   "metadata": {},
   "source": [
    "# UTILITY FUNCTIONS"
   ]
  },
  {
   "cell_type": "code",
   "execution_count": null,
   "id": "a36dddfd",
   "metadata": {},
   "outputs": [],
   "source": [
    "from loanpy.utils import find_optimal_year_cutoff\n",
    "tsv = [\n",
    "        ['form', 'sense', 'Year', 'Etymology', 'Loan'],\n",
    "        ['gulyás', 'goulash, Hungarian stew', '1861', 'internal', 'False'],\n",
    "        ['Tisza', 'a major river in Hungary', '1230', 'uncertain', ''],\n",
    "        ['Pest', 'part of Budapest, the capital', '1241', 'Slavic', 'True'],\n",
    "        ['paprika', 'ground red pepper, spice', '1748', 'Slavic', 'True']\n",
    "      ]\n",
    "find_optimal_year_cutoff(tsv, \"Slavic\")"
   ]
  },
  {
   "cell_type": "code",
   "execution_count": null,
   "id": "8c3a128c",
   "metadata": {},
   "outputs": [],
   "source": [
    "from loanpy.utils import cvgaps\n",
    "cvgaps(\"b l -\", \"b l a\")"
   ]
  },
  {
   "cell_type": "code",
   "execution_count": null,
   "id": "8d71b8f7",
   "metadata": {},
   "outputs": [],
   "source": [
    "cvgaps(\"b - a\", \"b l a\")"
   ]
  },
  {
   "cell_type": "code",
   "execution_count": null,
   "id": "8f0668f5",
   "metadata": {},
   "outputs": [],
   "source": [
    "from loanpy.utils import prefilter\n",
    "data = [\n",
    "['x', 'x', 'Language_ID', 'x', 'x', 'x', 'x', 'x', 'x', 'Cognacy', 'x'],\n",
    "['x', 'x', 'de', 'x', 'x', 'x', 'x', 'x', 'x', '0', 'x'],\n",
    "['x', 'x', 'en', 'x', 'x', 'x', 'x', 'x', 'x', '0', 'x'],\n",
    "['x', 'x', 'en', 'x', 'x', 'x', 'x', 'x', 'x', '1', 'x'],\n",
    "['x', 'x', 'de', 'x', 'x', 'x', 'x', 'x', 'x', '1', 'x'],\n",
    "['x', 'x', 'de', 'x', 'x', 'x', 'x', 'x', 'x', '2', 'x'],\n",
    "['x', 'x', 'en', 'x', 'x', 'x', 'x', 'x', 'x', '3', 'x'],\n",
    "['x', 'x', 'nl', 'x', 'x', 'x', 'x', 'x', 'x', '4', 'x'],\n",
    "['x', 'x', 'de', 'x', 'x', 'x', 'x', 'x', 'x', '4', 'x'],\n",
    "['x', 'x', 'nl', 'x', 'x', 'x', 'x', 'x', 'x', '5', 'x'],\n",
    "['x', 'x', 'en', 'x', 'x', 'x', 'x', 'x', 'x', '5', 'x'],\n",
    "['x', 'x', 'de', 'x', 'x', 'x', 'x', 'x', 'x', '6', 'x'],\n",
    "['x', 'x', 'nl', 'x', 'x', 'x', 'x', 'x', 'x', '6', 'x'],\n",
    "['x', 'x', 'en', 'x', 'x', 'x', 'x', 'x', 'x', '6', 'x']\n",
    "]\n",
    "prefilter(data, \"de\", \"en\")"
   ]
  },
  {
   "cell_type": "code",
   "execution_count": null,
   "id": "26de25e8",
   "metadata": {},
   "outputs": [],
   "source": [
    "from loanpy.utils import is_valid_language_sequence\n",
    "data = [  # no header!\n",
    " ['x', 'x', 'de', 'x', 'x', 'x', 'x', 'x', 'x', '0', 'x'],\n",
    " ['x', 'x', 'en', 'x', 'x', 'x', 'x', 'x', 'x', '0', 'x'],\n",
    " ['x', 'x', 'de', 'x', 'x', 'x', 'x', 'x', 'x', '1', 'x'],\n",
    " ['x', 'x', 'en', 'x', 'x', 'x', 'x', 'x', 'x', '1', 'x'],\n",
    " ['x', 'x', 'de', 'x', 'x', 'x', 'x', 'x', 'x', '6', 'x'],\n",
    " ['x', 'x', 'en', 'x', 'x', 'x', 'x', 'x', 'x', '6', 'x']]\n",
    "is_valid_language_sequence(data, \"de\", \"en\")"
   ]
  },
  {
   "cell_type": "code",
   "execution_count": null,
   "id": "f8336f9b",
   "metadata": {},
   "outputs": [],
   "source": [
    "from loanpy.utils import is_valid_language_sequence\n",
    "data = [  # no header!\n",
    " ['x', 'x', 'de', 'x', 'x', 'x', 'x', 'x', 'x', '0', 'x'],\n",
    " ['x', 'x', 'en', 'x', 'x', 'x', 'x', 'x', 'x', '0', 'x'],\n",
    " ['x', 'x', 'de', 'x', 'x', 'x', 'x', 'x', 'x', '1', 'x'],\n",
    " ['x', 'x', 'en', 'x', 'x', 'x', 'x', 'x', 'x', '1', 'x'],\n",
    " ['x', 'x', 'de', 'x', 'x', 'x', 'x', 'x', 'x', '6', 'x'],\n",
    " ['x', 'x', 'nl', 'x', 'x', 'x', 'x', 'x', 'x', '6', 'x']]\n",
    "is_valid_language_sequence(data, \"de\", \"en\")"
   ]
  },
  {
   "cell_type": "code",
   "execution_count": null,
   "id": "26d47606",
   "metadata": {},
   "outputs": [],
   "source": []
  },
  {
   "cell_type": "code",
   "execution_count": null,
   "id": "0853fb0e",
   "metadata": {},
   "outputs": [],
   "source": [
    "from loanpy.utils import is_same_length_alignments\n",
    "is_same_length_alignments([[0, 1, 2, \"a - c\", 4, 5], [0, 1, 2, \"d e f\", 4, 5]])"
   ]
  },
  {
   "cell_type": "code",
   "execution_count": null,
   "id": "d63234e5",
   "metadata": {},
   "outputs": [],
   "source": [
    "is_same_length_alignments([[0, 1, 2, \"a - c\", 4, 5], [0, 1, 2, \"d e\", 4, 5]])"
   ]
  },
  {
   "cell_type": "code",
   "execution_count": null,
   "id": "dd21bb2c",
   "metadata": {},
   "outputs": [],
   "source": [
    "from loanpy.utils import read_ipa_all\n",
    "ipa_all = read_ipa_all()\n",
    "type(ipa_all)"
   ]
  },
  {
   "cell_type": "code",
   "execution_count": null,
   "id": "d5e161bb",
   "metadata": {},
   "outputs": [],
   "source": [
    "len(ipa_all)"
   ]
  },
  {
   "cell_type": "code",
   "execution_count": null,
   "id": "9862b8db",
   "metadata": {},
   "outputs": [],
   "source": [
    "ipa_all[:2]"
   ]
  },
  {
   "cell_type": "code",
   "execution_count": null,
   "id": "9e4f38ae",
   "metadata": {},
   "outputs": [],
   "source": [
    "from loanpy.utils import prod\n",
    "prod([1, 2, 3])  # one times two times three"
   ]
  },
  {
   "cell_type": "code",
   "execution_count": null,
   "id": "0ab731af",
   "metadata": {},
   "outputs": [],
   "source": [
    "from loanpy.utils import IPA\n",
    "ipa = IPA()\n",
    "type(ipa.vowels)"
   ]
  },
  {
   "cell_type": "code",
   "execution_count": null,
   "id": "d935592e",
   "metadata": {},
   "outputs": [],
   "source": [
    "len(ipa.vowels)"
   ]
  },
  {
   "cell_type": "code",
   "execution_count": null,
   "id": "5873027a",
   "metadata": {},
   "outputs": [],
   "source": [
    "ipa.vowels[0]"
   ]
  },
  {
   "cell_type": "code",
   "execution_count": null,
   "id": "06cae3cd",
   "metadata": {},
   "outputs": [],
   "source": [
    "from loanpy.utils import IPA\n",
    "ipa = IPA()\n",
    "ipa.get_cv(\"p\")"
   ]
  },
  {
   "cell_type": "code",
   "execution_count": null,
   "id": "5efbdb67",
   "metadata": {},
   "outputs": [],
   "source": [
    "ipa.get_cv(\"u\")"
   ]
  },
  {
   "cell_type": "code",
   "execution_count": null,
   "id": "851b9183",
   "metadata": {},
   "outputs": [],
   "source": [
    "from loanpy.utils import IPA\n",
    "ipa = IPA()\n",
    "ipa.get_prosody(\"l o l\")"
   ]
  },
  {
   "cell_type": "code",
   "execution_count": null,
   "id": "8797ae87",
   "metadata": {},
   "outputs": [],
   "source": [
    "ipa.get_prosody(\"r o f.l\")"
   ]
  },
  {
   "cell_type": "code",
   "execution_count": null,
   "id": "53cbc2d0",
   "metadata": {},
   "outputs": [],
   "source": [
    "from loanpy.utils import IPA\n",
    "ipa = IPA()\n",
    "ipa.get_clusters([\"r\", \"a\", \"u\", \"f\", \"l\"])"
   ]
  },
  {
   "cell_type": "code",
   "execution_count": null,
   "id": "d5ad0829",
   "metadata": {},
   "outputs": [],
   "source": [
    "import json\n",
    "from loanpy.utils import scjson2tsv\n",
    "\n",
    "sc = [{\"a\": [\"o\", \"e\"]}, {\"a o\": 1, \"a e\": 2}, {\"a o\": [512],\n",
    "       \"a e\": [3, 4]}, {\"CV\": [\"CV\"]}, {\"CV CV\": 1}, {\"CV CV\": [7]}]\n",
    "with open(\"examples/sc.json\", \"w+\") as f:\n",
    "    json.dump(sc, f)\n",
    "    \n",
    "scjson2tsv(\"examples/sc.json\", \"examples/sc.tsv\", \"examples/sc_p.tsv\")\n",
    "\n",
    "with open(\"examples/sc.tsv\", \"r\") as f:\n",
    "    print(f.read())"
   ]
  },
  {
   "cell_type": "code",
   "execution_count": null,
   "id": "9ce1fad5",
   "metadata": {},
   "outputs": [],
   "source": [
    "with open(\"sc_p.tsv\", \"r\") as f:\n",
    "    print(f.read())"
   ]
  },
  {
   "cell_type": "code",
   "execution_count": null,
   "id": "4f68bc91",
   "metadata": {},
   "outputs": [],
   "source": [
    "import os\n",
    "os.remove(\"sc.tsv\")\n",
    "os.remove(\"sc_p.tsv\")"
   ]
  }
 ],
 "metadata": {
  "kernelspec": {
   "display_name": "Python 3 (ipykernel)",
   "language": "python",
   "name": "python3"
  },
  "language_info": {
   "codemirror_mode": {
    "name": "ipython",
    "version": 3
   },
   "file_extension": ".py",
   "mimetype": "text/x-python",
   "name": "python",
   "nbconvert_exporter": "python",
   "pygments_lexer": "ipython3",
   "version": "3.8.10"
  }
 },
 "nbformat": 4,
 "nbformat_minor": 5
}
