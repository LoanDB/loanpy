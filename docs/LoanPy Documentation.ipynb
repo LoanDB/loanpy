{
 "cells": [
  {
   "cell_type": "markdown",
   "id": "c382fafe",
   "metadata": {},
   "source": [
    "# EVALUATE SOUND CORRESPONDENCE APPLIER"
   ]
  },
  {
   "cell_type": "code",
   "execution_count": 6,
   "id": "dfb1084f",
   "metadata": {},
   "outputs": [
    {
     "data": {
      "text/plain": [
       "1.0"
      ]
     },
     "execution_count": 6,
     "metadata": {},
     "output_type": "execute_result"
    }
   ],
   "source": [
    "from loanpy.eval_sca import eval_one\n",
    "\n",
    "intable = [  ['ID', 'COGID', 'DOCULECT', 'ALIGNMENT', 'PROSODY'],\n",
    "  ['0', '1', 'H', 'k i k i', 'VC'],\n",
    "  ['1', '1', 'EAH', 'g i g i', 'VCVCV'],\n",
    "  ['2', '2', 'H', 'i k k i', 'VCV'],\n",
    "  ['3', '2', 'EAH', 'i g g i', 'VCCVC']\n",
    "]\n",
    "\n",
    "eval_one(intable, \"\", False, 1)"
   ]
  },
  {
   "cell_type": "code",
   "execution_count": 7,
   "id": "8115c5b1",
   "metadata": {},
   "outputs": [
    {
     "data": {
      "text/plain": [
       "0.0"
      ]
     },
     "execution_count": 7,
     "metadata": {},
     "output_type": "execute_result"
    }
   ],
   "source": [
    "intable = [  ['ID', 'COGID', 'DOCULECT', 'ALIGNMENT', 'PROSODY'],\n",
    "  ['0', '1', 'H', 'k i k i', 'VC'],\n",
    "  ['1', '1', 'EAH', 'g i g i', 'VCVCV'],\n",
    "  ['2', '2', 'H', 'b u b a', 'VCV'],\n",
    "  ['3', '2', 'EAH', 'p u p a', 'VCCVC']\n",
    "]\n",
    "\n",
    "eval_one(intable, \"\", False, 1)"
   ]
  },
  {
   "cell_type": "code",
   "execution_count": 8,
   "id": "0f7d6bb2",
   "metadata": {},
   "outputs": [
    {
     "data": {
      "text/plain": [
       "0.0"
      ]
     },
     "execution_count": 8,
     "metadata": {},
     "output_type": "execute_result"
    }
   ],
   "source": [
    "intable = [  ['ID', 'COGID', 'DOCULECT', 'ALIGNMENT', 'PROSODY'],\n",
    "  ['0', '1', 'H', 'k i k i', 'VC'],\n",
    "  ['1', '1', 'EAH', 'k i g i', 'VCVCV'],\n",
    "  ['2', '2', 'H', 'i k k i', 'VCV'],\n",
    "  ['3', '2', 'EAH', 'i g k i', 'VCCVC']\n",
    "]\n",
    "\n",
    "eval_one(intable, \"\", False, 1)"
   ]
  },
  {
   "cell_type": "code",
   "execution_count": 9,
   "id": "18931a2f",
   "metadata": {},
   "outputs": [
    {
     "data": {
      "text/plain": [
       "1.0"
      ]
     },
     "execution_count": 9,
     "metadata": {},
     "output_type": "execute_result"
    }
   ],
   "source": [
    "intable = [  ['ID', 'COGID', 'DOCULECT', 'ALIGNMENT', 'PROSODY'],\n",
    "  ['0', '1', 'H', 'k i k i', 'VC'],\n",
    "  ['1', '1', 'EAH', 'k i g i', 'VCVCV'],\n",
    "  ['2', '2', 'H', 'i k k i', 'VCV'],\n",
    "  ['3', '2', 'EAH', 'i g k i', 'VCCVC']\n",
    "]\n",
    "\n",
    "eval_one(intable, \"\", False, 2)"
   ]
  },
  {
   "cell_type": "code",
   "execution_count": 12,
   "id": "50bbe89c",
   "metadata": {},
   "outputs": [
    {
     "data": {
      "text/plain": [
       "[(0.33, 0.0), (0.67, 1.0), (1.0, 1.0)]"
      ]
     },
     "execution_count": 12,
     "metadata": {},
     "output_type": "execute_result"
    }
   ],
   "source": [
    "from loanpy.eval_sca import eval_all\n",
    "\n",
    "intable = [  ['ID', 'COGID', 'DOCULECT', 'ALIGNMENT', 'PROSODY'],\n",
    "  ['0', '1', 'H', 'k i k i', 'VC'],\n",
    "  ['1', '1', 'EAH', 'k i g i', 'VCVCV'],\n",
    "  ['2', '2', 'H', 'i k k i', 'VCV'],\n",
    "  ['3', '2', 'EAH', 'i g k i', 'VCCVC']\n",
    "]\n",
    "\n",
    "eval_all(intable, \"\", False, [1, 2, 3])"
   ]
  },
  {
   "cell_type": "markdown",
   "id": "8b435d09",
   "metadata": {},
   "source": [
    "# LOAN FINDER"
   ]
  },
  {
   "cell_type": "code",
   "execution_count": null,
   "id": "22a97670",
   "metadata": {},
   "outputs": [],
   "source": [
    "from loanpy.loanfinder import phonetic_matches\n",
    "\n",
    "donor = [\n",
    "['a0', 'Donorese-0', 'igig'],\n",
    "['a1', 'Donorese-1', 'iggi']\n",
    "]\n",
    "\n",
    "recipient = [\n",
    "['0', 'Recipientese-0', '^(i|u)(g)(g)(i|u)$'],\n",
    "['1', 'Recipientese-1', '^(i|u)(i|u)(g)(g)$']\n",
    "]\n",
    "\n",
    "outpath = \"examples/phonetic_matches.tsv\"\n",
    "\n",
    "phonetic_matches(recipient, donor, outpath)\n",
    "\n",
    "with open(outpath, \"r\") as f:\n",
    "        print(f.read())"
   ]
  },
  {
   "cell_type": "code",
   "execution_count": 3,
   "id": "9b08491d",
   "metadata": {},
   "outputs": [
    {
     "name": "stdout",
     "output_type": "stream",
     "text": [
      "ID\tID_rc\tID_ad\tsemsim\n",
      "0\tRecipientese-0\tDonorese-1\t0.75\n",
      "\n"
     ]
    }
   ],
   "source": [
    "from loanpy.loanfinder import semantic_matches\n",
    "\n",
    "def getsemsim(x, y):\n",
    "    return 0.75\n",
    "\n",
    "phmtsv = [\n",
    "    [\"ID\", \"ID_rc\", \"ID_ad\"],\n",
    "    [\"0\", \"Recipientese-0\", \"Donorese-1\", \"cat\", \"dog\"]\n",
    "]\n",
    "\n",
    "outpath = \"examples/phonetic_matches.tsv\"\n",
    "\n",
    "semantic_matches(phmtsv, getsemsim, outpath)\n",
    "\n",
    "with open(outpath, \"r\") as f:\n",
    "        print(f.read())"
   ]
  },
  {
   "cell_type": "markdown",
   "id": "b9b6d598",
   "metadata": {},
   "source": [
    "# UTILITY FUNCTIONS"
   ]
  },
  {
   "cell_type": "code",
   "execution_count": null,
   "id": "a36dddfd",
   "metadata": {},
   "outputs": [],
   "source": [
    "from loanpy.utils import find_optimal_year_cutoff\n",
    "tsv = [\n",
    "        ['form', 'sense', 'Year', 'Etymology', 'Loan'],\n",
    "        ['gulyás', 'goulash, Hungarian stew', '1861', 'internal', 'False'],\n",
    "        ['Tisza', 'a major river in Hungary', '1230', 'uncertain', ''],\n",
    "        ['Pest', 'part of Budapest, the capital', '1241', 'Slavic', 'True'],\n",
    "        ['paprika', 'ground red pepper, spice', '1748', 'Slavic', 'True']\n",
    "      ]\n",
    "find_optimal_year_cutoff(tsv, \"Slavic\")"
   ]
  },
  {
   "cell_type": "code",
   "execution_count": null,
   "id": "09c211c9",
   "metadata": {},
   "outputs": [],
   "source": [
    "from loanpy.utils import cvgaps\n",
    "cvgaps(\"b l -\", \"b l a\")"
   ]
  },
  {
   "cell_type": "code",
   "execution_count": null,
   "id": "2b0c6e48",
   "metadata": {},
   "outputs": [],
   "source": [
    "cvgaps(\"b - a\", \"b l a\")"
   ]
  },
  {
   "cell_type": "code",
   "execution_count": null,
   "id": "06a73abd",
   "metadata": {},
   "outputs": [],
   "source": [
    "from loanpy.utils import prefilter\n",
    "data = [\n",
    "['x', 'x', 'Language_ID', 'x', 'x', 'x', 'x', 'x', 'x', 'Cognacy', 'x'],\n",
    "['x', 'x', 'de', 'x', 'x', 'x', 'x', 'x', 'x', '0', 'x'],\n",
    "['x', 'x', 'en', 'x', 'x', 'x', 'x', 'x', 'x', '0', 'x'],\n",
    "['x', 'x', 'en', 'x', 'x', 'x', 'x', 'x', 'x', '1', 'x'],\n",
    "['x', 'x', 'de', 'x', 'x', 'x', 'x', 'x', 'x', '1', 'x'],\n",
    "['x', 'x', 'de', 'x', 'x', 'x', 'x', 'x', 'x', '2', 'x'],\n",
    "['x', 'x', 'en', 'x', 'x', 'x', 'x', 'x', 'x', '3', 'x'],\n",
    "['x', 'x', 'nl', 'x', 'x', 'x', 'x', 'x', 'x', '4', 'x'],\n",
    "['x', 'x', 'de', 'x', 'x', 'x', 'x', 'x', 'x', '4', 'x'],\n",
    "['x', 'x', 'nl', 'x', 'x', 'x', 'x', 'x', 'x', '5', 'x'],\n",
    "['x', 'x', 'en', 'x', 'x', 'x', 'x', 'x', 'x', '5', 'x'],\n",
    "['x', 'x', 'de', 'x', 'x', 'x', 'x', 'x', 'x', '6', 'x'],\n",
    "['x', 'x', 'nl', 'x', 'x', 'x', 'x', 'x', 'x', '6', 'x'],\n",
    "['x', 'x', 'en', 'x', 'x', 'x', 'x', 'x', 'x', '6', 'x']\n",
    "]\n",
    "prefilter(data, \"de\", \"en\")"
   ]
  },
  {
   "cell_type": "code",
   "execution_count": null,
   "id": "96851056",
   "metadata": {},
   "outputs": [],
   "source": [
    "from loanpy.utils import is_valid_language_sequence\n",
    "data = [  # no header!\n",
    " ['x', 'x', 'de', 'x', 'x', 'x', 'x', 'x', 'x', '0', 'x'],\n",
    " ['x', 'x', 'en', 'x', 'x', 'x', 'x', 'x', 'x', '0', 'x'],\n",
    " ['x', 'x', 'de', 'x', 'x', 'x', 'x', 'x', 'x', '1', 'x'],\n",
    " ['x', 'x', 'en', 'x', 'x', 'x', 'x', 'x', 'x', '1', 'x'],\n",
    " ['x', 'x', 'de', 'x', 'x', 'x', 'x', 'x', 'x', '6', 'x'],\n",
    " ['x', 'x', 'en', 'x', 'x', 'x', 'x', 'x', 'x', '6', 'x']]\n",
    "is_valid_language_sequence(data, \"de\", \"en\")"
   ]
  },
  {
   "cell_type": "code",
   "execution_count": null,
   "id": "cb315ae0",
   "metadata": {},
   "outputs": [],
   "source": [
    "from loanpy.utils import is_valid_language_sequence\n",
    "data = [  # no header!\n",
    " ['x', 'x', 'de', 'x', 'x', 'x', 'x', 'x', 'x', '0', 'x'],\n",
    " ['x', 'x', 'en', 'x', 'x', 'x', 'x', 'x', 'x', '0', 'x'],\n",
    " ['x', 'x', 'de', 'x', 'x', 'x', 'x', 'x', 'x', '1', 'x'],\n",
    " ['x', 'x', 'en', 'x', 'x', 'x', 'x', 'x', 'x', '1', 'x'],\n",
    " ['x', 'x', 'de', 'x', 'x', 'x', 'x', 'x', 'x', '6', 'x'],\n",
    " ['x', 'x', 'nl', 'x', 'x', 'x', 'x', 'x', 'x', '6', 'x']]\n",
    "is_valid_language_sequence(data, \"de\", \"en\")"
   ]
  },
  {
   "cell_type": "code",
   "execution_count": null,
   "id": "fe62b3d8",
   "metadata": {},
   "outputs": [],
   "source": []
  },
  {
   "cell_type": "code",
   "execution_count": null,
   "id": "1996eb82",
   "metadata": {},
   "outputs": [],
   "source": [
    "from loanpy.utils import is_same_length_alignments\n",
    "is_same_length_alignments([[0, 1, 2, \"a - c\", 4, 5], [0, 1, 2, \"d e f\", 4, 5]])"
   ]
  },
  {
   "cell_type": "code",
   "execution_count": null,
   "id": "53c895bb",
   "metadata": {},
   "outputs": [],
   "source": [
    "is_same_length_alignments([[0, 1, 2, \"a - c\", 4, 5], [0, 1, 2, \"d e\", 4, 5]])"
   ]
  },
  {
   "cell_type": "code",
   "execution_count": null,
   "id": "3dc02c9a",
   "metadata": {},
   "outputs": [],
   "source": [
    "from loanpy.utils import read_ipa_all\n",
    "ipa_all = read_ipa_all()\n",
    "type(ipa_all)"
   ]
  },
  {
   "cell_type": "code",
   "execution_count": null,
   "id": "25d705f8",
   "metadata": {},
   "outputs": [],
   "source": [
    "len(ipa_all)"
   ]
  },
  {
   "cell_type": "code",
   "execution_count": null,
   "id": "78a29d7f",
   "metadata": {},
   "outputs": [],
   "source": [
    "ipa_all[:2]"
   ]
  },
  {
   "cell_type": "code",
   "execution_count": null,
   "id": "d1365873",
   "metadata": {},
   "outputs": [],
   "source": [
    "from loanpy.utils import prod\n",
    "prod([1, 2, 3])  # one times two times three"
   ]
  },
  {
   "cell_type": "code",
   "execution_count": null,
   "id": "8f43c59a",
   "metadata": {},
   "outputs": [],
   "source": [
    "from loanpy.utils import IPA\n",
    "ipa = IPA()\n",
    "type(ipa.vowels)"
   ]
  },
  {
   "cell_type": "code",
   "execution_count": null,
   "id": "f89756f6",
   "metadata": {},
   "outputs": [],
   "source": [
    "len(ipa.vowels)"
   ]
  },
  {
   "cell_type": "code",
   "execution_count": null,
   "id": "da4c4674",
   "metadata": {},
   "outputs": [],
   "source": [
    "ipa.vowels[0]"
   ]
  },
  {
   "cell_type": "code",
   "execution_count": null,
   "id": "fa7df4bf",
   "metadata": {},
   "outputs": [],
   "source": [
    "from loanpy.utils import IPA\n",
    "ipa = IPA()\n",
    "ipa.get_cv(\"p\")"
   ]
  },
  {
   "cell_type": "code",
   "execution_count": null,
   "id": "72b5069f",
   "metadata": {},
   "outputs": [],
   "source": [
    "ipa.get_cv(\"u\")"
   ]
  },
  {
   "cell_type": "code",
   "execution_count": null,
   "id": "07717b97",
   "metadata": {},
   "outputs": [],
   "source": [
    "from loanpy.utils import IPA\n",
    "ipa = IPA()\n",
    "ipa.get_prosody(\"l o l\")"
   ]
  },
  {
   "cell_type": "code",
   "execution_count": null,
   "id": "ba97b699",
   "metadata": {},
   "outputs": [],
   "source": [
    "ipa.get_prosody(\"r o f.l\")"
   ]
  },
  {
   "cell_type": "code",
   "execution_count": null,
   "id": "c383d03d",
   "metadata": {},
   "outputs": [],
   "source": [
    "from loanpy.utils import IPA\n",
    "ipa = IPA()\n",
    "ipa.get_clusters([\"r\", \"a\", \"u\", \"f\", \"l\"])"
   ]
  },
  {
   "cell_type": "code",
   "execution_count": null,
   "id": "673e1fa6",
   "metadata": {},
   "outputs": [],
   "source": [
    "import json\n",
    "from loanpy.utils import scjson2tsv\n",
    "\n",
    "sc = [{\"a\": [\"o\", \"e\"]}, {\"a o\": 1, \"a e\": 2}, {\"a o\": [512],\n",
    "       \"a e\": [3, 4]}, {\"CV\": [\"CV\"]}, {\"CV CV\": 1}, {\"CV CV\": [7]}]\n",
    "with open(\"examples/sc.json\", \"w+\") as f:\n",
    "    json.dump(sc, f)\n",
    "    \n",
    "scjson2tsv(\"examples/sc.json\", \"examples/sc.tsv\", \"examples/sc_p.tsv\")\n",
    "\n",
    "with open(\"examples/sc.tsv\", \"r\") as f:\n",
    "    print(f.read())"
   ]
  },
  {
   "cell_type": "code",
   "execution_count": null,
   "id": "31c96a44",
   "metadata": {},
   "outputs": [],
   "source": [
    "with open(\"sc_p.tsv\", \"r\") as f:\n",
    "    print(f.read())"
   ]
  },
  {
   "cell_type": "code",
   "execution_count": null,
   "id": "82e45f30",
   "metadata": {},
   "outputs": [],
   "source": [
    "import os\n",
    "os.remove(\"sc.tsv\")\n",
    "os.remove(\"sc_p.tsv\")"
   ]
  }
 ],
 "metadata": {
  "kernelspec": {
   "display_name": "Python 3 (ipykernel)",
   "language": "python",
   "name": "python3"
  },
  "language_info": {
   "codemirror_mode": {
    "name": "ipython",
    "version": 3
   },
   "file_extension": ".py",
   "mimetype": "text/x-python",
   "name": "python",
   "nbconvert_exporter": "python",
   "pygments_lexer": "ipython3",
   "version": "3.8.10"
  }
 },
 "nbformat": 4,
 "nbformat_minor": 5
}
