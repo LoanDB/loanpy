{
 "cells": [
  {
   "cell_type": "markdown",
   "id": "70aa926a",
   "metadata": {},
   "source": [
    "# LOAN FINDER"
   ]
  },
  {
   "cell_type": "code",
   "execution_count": 28,
   "id": "6e02789e",
   "metadata": {},
   "outputs": [
    {
     "name": "stdout",
     "output_type": "stream",
     "text": [
      "ID\tID_rc\tID_ad\n",
      "0\tRecipientese-0\tf1\n",
      "\n"
     ]
    }
   ],
   "source": [
    "from loanpy.loanfinder import phonetic_matches\n",
    "\n",
    "donor = [\n",
    "['a0', 'f0', 'igig'],\n",
    "['a1', 'f1', 'iggi']\n",
    "]\n",
    "\n",
    "recipient = [\n",
    "['0', 'Recipientese-0', '^(i|u)(g)(g)(i|u)$'],\n",
    "['1', 'Recipientese-1', '^(i|u)(i|u)(g)(g)$']\n",
    "]\n",
    "\n",
    "outpath = \"examples/phonetic_matches.tsv\"\n",
    "\n",
    "phonetic_matches(recipient, donor, outpath)\n",
    "\n",
    "with open(outpath, \"r\") as f:\n",
    "        print(f.read())"
   ]
  },
  {
   "cell_type": "code",
   "execution_count": 29,
   "id": "b1bd1229",
   "metadata": {},
   "outputs": [
    {
     "name": "stdout",
     "output_type": "stream",
     "text": [
      "ID\tID_rc\tID_ad\tsemsim\n",
      "0\t20-bla\tf53\t3\n",
      "1\t87-bli\tf7\t3\n",
      "\n"
     ]
    }
   ],
   "source": [
    "from loanpy.loanfinder import semantic_matches\n",
    "\n",
    "def getsemsim(x, y):\n",
    "    return 3\n",
    "\n",
    "phmtsv = [\n",
    "    [\"ID\", \"ID_rc\", \"ID_ad\", \"lg1\", \"lg2\"],\n",
    "    [\"0\", \"20-bla\", \"f53\", \"lg1\", \"lg2\"],\n",
    "    [\"1\", \"87-bli\", \"f7\", \"l1\", \"lg2\"],\n",
    "]\n",
    "\n",
    "outpath = \"examples/phonetic_matches.tsv\"\n",
    "\n",
    "semantic_matches(phmtsv, getsemsim, outpath)\n",
    "\n",
    "with open(outpath, \"r\") as f:\n",
    "        print(f.read())"
   ]
  },
  {
   "cell_type": "markdown",
   "id": "b4f28540",
   "metadata": {},
   "source": [
    "# UTILITY FUNCTIONS"
   ]
  },
  {
   "cell_type": "code",
   "execution_count": null,
   "id": "a36dddfd",
   "metadata": {},
   "outputs": [],
   "source": [
    "from loanpy.utils import find_optimal_year_cutoff\n",
    "tsv = [\n",
    "        ['form', 'sense', 'Year', 'Etymology', 'Loan'],\n",
    "        ['gulyás', 'goulash, Hungarian stew', '1861', 'internal', 'False'],\n",
    "        ['Tisza', 'a major river in Hungary', '1230', 'uncertain', ''],\n",
    "        ['Pest', 'part of Budapest, the capital', '1241', 'Slavic', 'True'],\n",
    "        ['paprika', 'ground red pepper, spice', '1748', 'Slavic', 'True']\n",
    "      ]\n",
    "find_optimal_year_cutoff(tsv, \"Slavic\")"
   ]
  },
  {
   "cell_type": "code",
   "execution_count": null,
   "id": "928e9c12",
   "metadata": {},
   "outputs": [],
   "source": [
    "from loanpy.utils import cvgaps\n",
    "cvgaps(\"b l -\", \"b l a\")"
   ]
  },
  {
   "cell_type": "code",
   "execution_count": null,
   "id": "ad3605a8",
   "metadata": {},
   "outputs": [],
   "source": [
    "cvgaps(\"b - a\", \"b l a\")"
   ]
  },
  {
   "cell_type": "code",
   "execution_count": null,
   "id": "aea83a34",
   "metadata": {},
   "outputs": [],
   "source": [
    "from loanpy.utils import prefilter\n",
    "data = [\n",
    "['x', 'x', 'Language_ID', 'x', 'x', 'x', 'x', 'x', 'x', 'Cognacy', 'x'],\n",
    "['x', 'x', 'de', 'x', 'x', 'x', 'x', 'x', 'x', '0', 'x'],\n",
    "['x', 'x', 'en', 'x', 'x', 'x', 'x', 'x', 'x', '0', 'x'],\n",
    "['x', 'x', 'en', 'x', 'x', 'x', 'x', 'x', 'x', '1', 'x'],\n",
    "['x', 'x', 'de', 'x', 'x', 'x', 'x', 'x', 'x', '1', 'x'],\n",
    "['x', 'x', 'de', 'x', 'x', 'x', 'x', 'x', 'x', '2', 'x'],\n",
    "['x', 'x', 'en', 'x', 'x', 'x', 'x', 'x', 'x', '3', 'x'],\n",
    "['x', 'x', 'nl', 'x', 'x', 'x', 'x', 'x', 'x', '4', 'x'],\n",
    "['x', 'x', 'de', 'x', 'x', 'x', 'x', 'x', 'x', '4', 'x'],\n",
    "['x', 'x', 'nl', 'x', 'x', 'x', 'x', 'x', 'x', '5', 'x'],\n",
    "['x', 'x', 'en', 'x', 'x', 'x', 'x', 'x', 'x', '5', 'x'],\n",
    "['x', 'x', 'de', 'x', 'x', 'x', 'x', 'x', 'x', '6', 'x'],\n",
    "['x', 'x', 'nl', 'x', 'x', 'x', 'x', 'x', 'x', '6', 'x'],\n",
    "['x', 'x', 'en', 'x', 'x', 'x', 'x', 'x', 'x', '6', 'x']\n",
    "]\n",
    "prefilter(data, \"de\", \"en\")"
   ]
  },
  {
   "cell_type": "code",
   "execution_count": null,
   "id": "0ea64608",
   "metadata": {},
   "outputs": [],
   "source": [
    "from loanpy.utils import is_valid_language_sequence\n",
    "data = [  # no header!\n",
    " ['x', 'x', 'de', 'x', 'x', 'x', 'x', 'x', 'x', '0', 'x'],\n",
    " ['x', 'x', 'en', 'x', 'x', 'x', 'x', 'x', 'x', '0', 'x'],\n",
    " ['x', 'x', 'de', 'x', 'x', 'x', 'x', 'x', 'x', '1', 'x'],\n",
    " ['x', 'x', 'en', 'x', 'x', 'x', 'x', 'x', 'x', '1', 'x'],\n",
    " ['x', 'x', 'de', 'x', 'x', 'x', 'x', 'x', 'x', '6', 'x'],\n",
    " ['x', 'x', 'en', 'x', 'x', 'x', 'x', 'x', 'x', '6', 'x']]\n",
    "is_valid_language_sequence(data, \"de\", \"en\")"
   ]
  },
  {
   "cell_type": "code",
   "execution_count": null,
   "id": "42cf19d4",
   "metadata": {},
   "outputs": [],
   "source": [
    "from loanpy.utils import is_valid_language_sequence\n",
    "data = [  # no header!\n",
    " ['x', 'x', 'de', 'x', 'x', 'x', 'x', 'x', 'x', '0', 'x'],\n",
    " ['x', 'x', 'en', 'x', 'x', 'x', 'x', 'x', 'x', '0', 'x'],\n",
    " ['x', 'x', 'de', 'x', 'x', 'x', 'x', 'x', 'x', '1', 'x'],\n",
    " ['x', 'x', 'en', 'x', 'x', 'x', 'x', 'x', 'x', '1', 'x'],\n",
    " ['x', 'x', 'de', 'x', 'x', 'x', 'x', 'x', 'x', '6', 'x'],\n",
    " ['x', 'x', 'nl', 'x', 'x', 'x', 'x', 'x', 'x', '6', 'x']]\n",
    "is_valid_language_sequence(data, \"de\", \"en\")"
   ]
  },
  {
   "cell_type": "code",
   "execution_count": null,
   "id": "90c01957",
   "metadata": {},
   "outputs": [],
   "source": []
  },
  {
   "cell_type": "code",
   "execution_count": 1,
   "id": "d5f050c7",
   "metadata": {},
   "outputs": [
    {
     "data": {
      "text/plain": [
       "True"
      ]
     },
     "execution_count": 1,
     "metadata": {},
     "output_type": "execute_result"
    }
   ],
   "source": [
    "from loanpy.utils import is_same_length_alignments\n",
    "is_same_length_alignments([[0, 1, 2, \"a - c\", 4, 5], [0, 1, 2, \"d e f\", 4, 5]])"
   ]
  },
  {
   "cell_type": "code",
   "execution_count": 2,
   "id": "ae4d5a93",
   "metadata": {},
   "outputs": [
    {
     "name": "stderr",
     "output_type": "stream",
     "text": [
      "2023-04-25 23:08:05,042 - INFO - 0\n",
      "['a', '-', 'c']\n",
      "['d', 'e']\n"
     ]
    },
    {
     "data": {
      "text/plain": [
       "False"
      ]
     },
     "execution_count": 2,
     "metadata": {},
     "output_type": "execute_result"
    }
   ],
   "source": [
    "is_same_length_alignments([[0, 1, 2, \"a - c\", 4, 5], [0, 1, 2, \"d e\", 4, 5]])"
   ]
  },
  {
   "cell_type": "code",
   "execution_count": 14,
   "id": "191fdfd8",
   "metadata": {},
   "outputs": [
    {
     "data": {
      "text/plain": [
       "list"
      ]
     },
     "execution_count": 14,
     "metadata": {},
     "output_type": "execute_result"
    }
   ],
   "source": [
    "from loanpy.utils import read_ipa_all\n",
    "ipa_all = read_ipa_all()\n",
    "type(ipa_all)"
   ]
  },
  {
   "cell_type": "code",
   "execution_count": 15,
   "id": "943fdc1d",
   "metadata": {},
   "outputs": [
    {
     "data": {
      "text/plain": [
       "6492"
      ]
     },
     "execution_count": 15,
     "metadata": {},
     "output_type": "execute_result"
    }
   ],
   "source": [
    "len(ipa_all)"
   ]
  },
  {
   "cell_type": "code",
   "execution_count": null,
   "id": "86259423",
   "metadata": {},
   "outputs": [],
   "source": [
    "ipa_all[:2]"
   ]
  },
  {
   "cell_type": "code",
   "execution_count": 17,
   "id": "d88d1303",
   "metadata": {},
   "outputs": [
    {
     "data": {
      "text/plain": [
       "6"
      ]
     },
     "execution_count": 17,
     "metadata": {},
     "output_type": "execute_result"
    }
   ],
   "source": [
    "from loanpy.utils import prod\n",
    "prod([1, 2, 3])  # one times two times three"
   ]
  },
  {
   "cell_type": "code",
   "execution_count": 3,
   "id": "8fcff1e2",
   "metadata": {},
   "outputs": [
    {
     "data": {
      "text/plain": [
       "list"
      ]
     },
     "execution_count": 3,
     "metadata": {},
     "output_type": "execute_result"
    }
   ],
   "source": [
    "from loanpy.utils import IPA\n",
    "ipa = IPA()\n",
    "type(ipa.vowels)"
   ]
  },
  {
   "cell_type": "code",
   "execution_count": 4,
   "id": "f12934f3",
   "metadata": {},
   "outputs": [
    {
     "data": {
      "text/plain": [
       "1464"
      ]
     },
     "execution_count": 4,
     "metadata": {},
     "output_type": "execute_result"
    }
   ],
   "source": [
    "len(ipa.vowels)"
   ]
  },
  {
   "cell_type": "code",
   "execution_count": 2,
   "id": "ca2e5307",
   "metadata": {},
   "outputs": [
    {
     "data": {
      "text/plain": [
       "'ʋ̥'"
      ]
     },
     "execution_count": 2,
     "metadata": {},
     "output_type": "execute_result"
    }
   ],
   "source": [
    "ipa.vowels[0]"
   ]
  },
  {
   "cell_type": "code",
   "execution_count": 5,
   "id": "d6f66c91",
   "metadata": {},
   "outputs": [
    {
     "data": {
      "text/plain": [
       "'C'"
      ]
     },
     "execution_count": 5,
     "metadata": {},
     "output_type": "execute_result"
    }
   ],
   "source": [
    "from loanpy.utils import IPA\n",
    "ipa = IPA()\n",
    "ipa.get_cv(\"p\")"
   ]
  },
  {
   "cell_type": "code",
   "execution_count": 7,
   "id": "20b37dc6",
   "metadata": {},
   "outputs": [
    {
     "data": {
      "text/plain": [
       "'V'"
      ]
     },
     "execution_count": 7,
     "metadata": {},
     "output_type": "execute_result"
    }
   ],
   "source": [
    "ipa.get_cv(\"u\")"
   ]
  },
  {
   "cell_type": "code",
   "execution_count": 9,
   "id": "a5aa3a09",
   "metadata": {},
   "outputs": [
    {
     "data": {
      "text/plain": [
       "'CVC'"
      ]
     },
     "execution_count": 9,
     "metadata": {},
     "output_type": "execute_result"
    }
   ],
   "source": [
    "from loanpy.utils import IPA\n",
    "ipa = IPA()\n",
    "ipa.get_prosody(\"l o l\")"
   ]
  },
  {
   "cell_type": "code",
   "execution_count": 12,
   "id": "a2762fe5",
   "metadata": {},
   "outputs": [
    {
     "data": {
      "text/plain": [
       "'CVCC'"
      ]
     },
     "execution_count": 12,
     "metadata": {},
     "output_type": "execute_result"
    }
   ],
   "source": [
    "ipa.get_prosody(\"r o f.l\")"
   ]
  },
  {
   "cell_type": "code",
   "execution_count": 16,
   "id": "7236d6ca",
   "metadata": {},
   "outputs": [
    {
     "data": {
      "text/plain": [
       "'r a.u f.l'"
      ]
     },
     "execution_count": 16,
     "metadata": {},
     "output_type": "execute_result"
    }
   ],
   "source": [
    "from loanpy.utils import IPA\n",
    "ipa = IPA()\n",
    "ipa.get_clusters([\"r\", \"a\", \"u\", \"f\", \"l\"])"
   ]
  },
  {
   "cell_type": "code",
   "execution_count": 25,
   "id": "ddc0c293",
   "metadata": {},
   "outputs": [
    {
     "name": "stdout",
     "output_type": "stream",
     "text": [
      "sc\tsrc\ttgt\tfreq\tCogID\n",
      "a o\ta\to\t1\t512\n",
      "a e\ta\te\t2\t3, 4\n",
      "\n"
     ]
    }
   ],
   "source": [
    "import json\n",
    "from loanpy.utils import scjson2tsv\n",
    "\n",
    "sc = [{\"a\": [\"o\", \"e\"]}, {\"a o\": 1, \"a e\": 2}, {\"a o\": [512],\n",
    "       \"a e\": [3, 4]}, {\"CV\": [\"CV\"]}, {\"CV CV\": 1}, {\"CV CV\": [7]}]\n",
    "with open(\"examples/sc.json\", \"w+\") as f:\n",
    "    json.dump(sc, f)\n",
    "    \n",
    "scjson2tsv(\"examples/sc.json\", \"examples/sc.tsv\", \"examples/sc_p.tsv\")\n",
    "\n",
    "with open(\"examples/sc.tsv\", \"r\") as f:\n",
    "    print(f.read())"
   ]
  },
  {
   "cell_type": "code",
   "execution_count": 26,
   "id": "57c96b72",
   "metadata": {},
   "outputs": [
    {
     "name": "stdout",
     "output_type": "stream",
     "text": [
      "sc\tsrc\ttgt\tfreq\tCogID\n",
      "CV CV\tCV\tCV\t1\t7\n",
      "\n"
     ]
    }
   ],
   "source": [
    "with open(\"sc_p.tsv\", \"r\") as f:\n",
    "    print(f.read())"
   ]
  },
  {
   "cell_type": "code",
   "execution_count": 23,
   "id": "573c2f4d",
   "metadata": {},
   "outputs": [
    {
     "ename": "FileNotFoundError",
     "evalue": "[Errno 2] No such file or directory: 'sc.tsv'",
     "output_type": "error",
     "traceback": [
      "\u001b[0;31m---------------------------------------------------------------------------\u001b[0m",
      "\u001b[0;31mFileNotFoundError\u001b[0m                         Traceback (most recent call last)",
      "Cell \u001b[0;32mIn[23], line 2\u001b[0m\n\u001b[1;32m      1\u001b[0m \u001b[38;5;28;01mimport\u001b[39;00m \u001b[38;5;21;01mos\u001b[39;00m\n\u001b[0;32m----> 2\u001b[0m \u001b[43mos\u001b[49m\u001b[38;5;241;43m.\u001b[39;49m\u001b[43mremove\u001b[49m\u001b[43m(\u001b[49m\u001b[38;5;124;43m\"\u001b[39;49m\u001b[38;5;124;43msc.tsv\u001b[39;49m\u001b[38;5;124;43m\"\u001b[39;49m\u001b[43m)\u001b[49m\n\u001b[1;32m      3\u001b[0m os\u001b[38;5;241m.\u001b[39mremove(\u001b[38;5;124m\"\u001b[39m\u001b[38;5;124msc_p.tsv\u001b[39m\u001b[38;5;124m\"\u001b[39m)\n",
      "\u001b[0;31mFileNotFoundError\u001b[0m: [Errno 2] No such file or directory: 'sc.tsv'"
     ]
    }
   ],
   "source": [
    "import os\n",
    "os.remove(\"sc.tsv\")\n",
    "os.remove(\"sc_p.tsv\")"
   ]
  }
 ],
 "metadata": {
  "kernelspec": {
   "display_name": "Python 3 (ipykernel)",
   "language": "python",
   "name": "python3"
  },
  "language_info": {
   "codemirror_mode": {
    "name": "ipython",
    "version": 3
   },
   "file_extension": ".py",
   "mimetype": "text/x-python",
   "name": "python",
   "nbconvert_exporter": "python",
   "pygments_lexer": "ipython3",
   "version": "3.8.10"
  }
 },
 "nbformat": 4,
 "nbformat_minor": 5
}
