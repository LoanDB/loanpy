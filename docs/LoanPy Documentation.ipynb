{
 "cells": [
  {
   "cell_type": "code",
   "execution_count": null,
   "id": "a36dddfd",
   "metadata": {},
   "outputs": [],
   "source": [
    "from loanpy.utils import find_optimal_year_cutoff\n",
    "tsv = [\n",
    "        ['form', 'sense', 'Year', 'Etymology', 'Loan'],\n",
    "        ['gulyás', 'goulash, Hungarian stew', '1861', 'internal', 'False'],\n",
    "        ['Tisza', 'a major river in Hungary', '1230', 'uncertain', ''],\n",
    "        ['Pest', 'part of Budapest, the capital', '1241', 'Slavic', 'True'],\n",
    "        ['paprika', 'ground red pepper, spice', '1748', 'Slavic', 'True']\n",
    "      ]\n",
    "find_optimal_year_cutoff(tsv, \"Slavic\")"
   ]
  },
  {
   "cell_type": "code",
   "execution_count": null,
   "id": "e81d6c6f",
   "metadata": {},
   "outputs": [],
   "source": [
    "from loanpy.utils import cvgaps\n",
    "cvgaps(\"b l -\", \"b l a\")"
   ]
  },
  {
   "cell_type": "code",
   "execution_count": null,
   "id": "bce3e431",
   "metadata": {},
   "outputs": [],
   "source": [
    "cvgaps(\"b - a\", \"b l a\")"
   ]
  },
  {
   "cell_type": "code",
   "execution_count": null,
   "id": "5c4f121b",
   "metadata": {},
   "outputs": [],
   "source": [
    "from loanpy.utils import prefilter\n",
    "data = [\n",
    "['x', 'x', 'Language_ID', 'x', 'x', 'x', 'x', 'x', 'x', 'Cognacy', 'x'],\n",
    "['x', 'x', 'de', 'x', 'x', 'x', 'x', 'x', 'x', '0', 'x'],\n",
    "['x', 'x', 'en', 'x', 'x', 'x', 'x', 'x', 'x', '0', 'x'],\n",
    "['x', 'x', 'en', 'x', 'x', 'x', 'x', 'x', 'x', '1', 'x'],\n",
    "['x', 'x', 'de', 'x', 'x', 'x', 'x', 'x', 'x', '1', 'x'],\n",
    "['x', 'x', 'de', 'x', 'x', 'x', 'x', 'x', 'x', '2', 'x'],\n",
    "['x', 'x', 'en', 'x', 'x', 'x', 'x', 'x', 'x', '3', 'x'],\n",
    "['x', 'x', 'nl', 'x', 'x', 'x', 'x', 'x', 'x', '4', 'x'],\n",
    "['x', 'x', 'de', 'x', 'x', 'x', 'x', 'x', 'x', '4', 'x'],\n",
    "['x', 'x', 'nl', 'x', 'x', 'x', 'x', 'x', 'x', '5', 'x'],\n",
    "['x', 'x', 'en', 'x', 'x', 'x', 'x', 'x', 'x', '5', 'x'],\n",
    "['x', 'x', 'de', 'x', 'x', 'x', 'x', 'x', 'x', '6', 'x'],\n",
    "['x', 'x', 'nl', 'x', 'x', 'x', 'x', 'x', 'x', '6', 'x'],\n",
    "['x', 'x', 'en', 'x', 'x', 'x', 'x', 'x', 'x', '6', 'x']\n",
    "]\n",
    "prefilter(data, \"de\", \"en\")"
   ]
  },
  {
   "cell_type": "code",
   "execution_count": null,
   "id": "3d3a53c1",
   "metadata": {},
   "outputs": [],
   "source": [
    "from loanpy.utils import is_valid_language_sequence\n",
    "data = [  # no header!\n",
    " ['x', 'x', 'de', 'x', 'x', 'x', 'x', 'x', 'x', '0', 'x'],\n",
    " ['x', 'x', 'en', 'x', 'x', 'x', 'x', 'x', 'x', '0', 'x'],\n",
    " ['x', 'x', 'de', 'x', 'x', 'x', 'x', 'x', 'x', '1', 'x'],\n",
    " ['x', 'x', 'en', 'x', 'x', 'x', 'x', 'x', 'x', '1', 'x'],\n",
    " ['x', 'x', 'de', 'x', 'x', 'x', 'x', 'x', 'x', '6', 'x'],\n",
    " ['x', 'x', 'en', 'x', 'x', 'x', 'x', 'x', 'x', '6', 'x']]\n",
    "is_valid_language_sequence(data, \"de\", \"en\")"
   ]
  },
  {
   "cell_type": "code",
   "execution_count": null,
   "id": "f0b6f8cd",
   "metadata": {},
   "outputs": [],
   "source": [
    "from loanpy.utils import is_valid_language_sequence\n",
    "data = [  # no header!\n",
    " ['x', 'x', 'de', 'x', 'x', 'x', 'x', 'x', 'x', '0', 'x'],\n",
    " ['x', 'x', 'en', 'x', 'x', 'x', 'x', 'x', 'x', '0', 'x'],\n",
    " ['x', 'x', 'de', 'x', 'x', 'x', 'x', 'x', 'x', '1', 'x'],\n",
    " ['x', 'x', 'en', 'x', 'x', 'x', 'x', 'x', 'x', '1', 'x'],\n",
    " ['x', 'x', 'de', 'x', 'x', 'x', 'x', 'x', 'x', '6', 'x'],\n",
    " ['x', 'x', 'nl', 'x', 'x', 'x', 'x', 'x', 'x', '6', 'x']]\n",
    "is_valid_language_sequence(data, \"de\", \"en\")"
   ]
  },
  {
   "cell_type": "code",
   "execution_count": null,
   "id": "6799262b",
   "metadata": {},
   "outputs": [],
   "source": []
  },
  {
   "cell_type": "code",
   "execution_count": 1,
   "id": "5ac4e72b",
   "metadata": {},
   "outputs": [
    {
     "data": {
      "text/plain": [
       "True"
      ]
     },
     "execution_count": 1,
     "metadata": {},
     "output_type": "execute_result"
    }
   ],
   "source": [
    "from loanpy.utils import is_same_length_alignments\n",
    "is_same_length_alignments([[0, 1, 2, \"a - c\", 4, 5], [0, 1, 2, \"d e f\", 4, 5]])"
   ]
  },
  {
   "cell_type": "code",
   "execution_count": 2,
   "id": "b8bea007",
   "metadata": {},
   "outputs": [
    {
     "name": "stderr",
     "output_type": "stream",
     "text": [
      "2023-04-25 23:08:05,042 - INFO - 0\n",
      "['a', '-', 'c']\n",
      "['d', 'e']\n"
     ]
    },
    {
     "data": {
      "text/plain": [
       "False"
      ]
     },
     "execution_count": 2,
     "metadata": {},
     "output_type": "execute_result"
    }
   ],
   "source": [
    "is_same_length_alignments([[0, 1, 2, \"a - c\", 4, 5], [0, 1, 2, \"d e\", 4, 5]])"
   ]
  },
  {
   "cell_type": "code",
   "execution_count": 14,
   "id": "7bd128ec",
   "metadata": {},
   "outputs": [
    {
     "data": {
      "text/plain": [
       "list"
      ]
     },
     "execution_count": 14,
     "metadata": {},
     "output_type": "execute_result"
    }
   ],
   "source": [
    "from loanpy.utils import read_ipa_all\n",
    "ipa_all = read_ipa_all()\n",
    "type(ipa_all)"
   ]
  },
  {
   "cell_type": "code",
   "execution_count": 15,
   "id": "d979ad2c",
   "metadata": {},
   "outputs": [
    {
     "data": {
      "text/plain": [
       "6492"
      ]
     },
     "execution_count": 15,
     "metadata": {},
     "output_type": "execute_result"
    }
   ],
   "source": [
    "len(ipa_all)"
   ]
  },
  {
   "cell_type": "code",
   "execution_count": null,
   "id": "d2f45b02",
   "metadata": {},
   "outputs": [],
   "source": [
    "ipa_all[:2]"
   ]
  },
  {
   "cell_type": "code",
   "execution_count": 17,
   "id": "19c15fce",
   "metadata": {},
   "outputs": [
    {
     "data": {
      "text/plain": [
       "6"
      ]
     },
     "execution_count": 17,
     "metadata": {},
     "output_type": "execute_result"
    }
   ],
   "source": [
    "from loanpy.utils import prod\n",
    "prod([1, 2, 3])  # one times two times three"
   ]
  },
  {
   "cell_type": "code",
   "execution_count": 3,
   "id": "ac69f3bf",
   "metadata": {},
   "outputs": [
    {
     "data": {
      "text/plain": [
       "list"
      ]
     },
     "execution_count": 3,
     "metadata": {},
     "output_type": "execute_result"
    }
   ],
   "source": [
    "from loanpy.utils import IPA\n",
    "ipa = IPA()\n",
    "type(ipa.vowels)"
   ]
  },
  {
   "cell_type": "code",
   "execution_count": 4,
   "id": "b72fa9da",
   "metadata": {},
   "outputs": [
    {
     "data": {
      "text/plain": [
       "1464"
      ]
     },
     "execution_count": 4,
     "metadata": {},
     "output_type": "execute_result"
    }
   ],
   "source": [
    "len(ipa.vowels)"
   ]
  },
  {
   "cell_type": "code",
   "execution_count": 2,
   "id": "7eb5f8f2",
   "metadata": {},
   "outputs": [
    {
     "data": {
      "text/plain": [
       "'ʋ̥'"
      ]
     },
     "execution_count": 2,
     "metadata": {},
     "output_type": "execute_result"
    }
   ],
   "source": [
    "ipa.vowels[0]"
   ]
  },
  {
   "cell_type": "code",
   "execution_count": 5,
   "id": "b0f3b9fd",
   "metadata": {},
   "outputs": [
    {
     "data": {
      "text/plain": [
       "'C'"
      ]
     },
     "execution_count": 5,
     "metadata": {},
     "output_type": "execute_result"
    }
   ],
   "source": [
    "from loanpy.utils import IPA\n",
    "ipa = IPA()\n",
    "ipa.get_cv(\"p\")"
   ]
  },
  {
   "cell_type": "code",
   "execution_count": 7,
   "id": "2a9db637",
   "metadata": {},
   "outputs": [
    {
     "data": {
      "text/plain": [
       "'V'"
      ]
     },
     "execution_count": 7,
     "metadata": {},
     "output_type": "execute_result"
    }
   ],
   "source": [
    "ipa.get_cv(\"u\")"
   ]
  },
  {
   "cell_type": "code",
   "execution_count": 9,
   "id": "777ceff7",
   "metadata": {},
   "outputs": [
    {
     "data": {
      "text/plain": [
       "'CVC'"
      ]
     },
     "execution_count": 9,
     "metadata": {},
     "output_type": "execute_result"
    }
   ],
   "source": [
    "from loanpy.utils import IPA\n",
    "ipa = IPA()\n",
    "ipa.get_prosody(\"l o l\")"
   ]
  },
  {
   "cell_type": "code",
   "execution_count": 12,
   "id": "516eedf1",
   "metadata": {},
   "outputs": [
    {
     "data": {
      "text/plain": [
       "'CVCC'"
      ]
     },
     "execution_count": 12,
     "metadata": {},
     "output_type": "execute_result"
    }
   ],
   "source": [
    "ipa.get_prosody(\"r o f.l\")"
   ]
  },
  {
   "cell_type": "code",
   "execution_count": 16,
   "id": "c4291c21",
   "metadata": {},
   "outputs": [
    {
     "data": {
      "text/plain": [
       "'r a.u f.l'"
      ]
     },
     "execution_count": 16,
     "metadata": {},
     "output_type": "execute_result"
    }
   ],
   "source": [
    "from loanpy.utils import IPA\n",
    "ipa = IPA()\n",
    "ipa.get_clusters([\"r\", \"a\", \"u\", \"f\", \"l\"])"
   ]
  },
  {
   "cell_type": "code",
   "execution_count": 20,
   "id": "3c03af04",
   "metadata": {},
   "outputs": [
    {
     "name": "stdout",
     "output_type": "stream",
     "text": [
      "sc\tsrc\ttgt\tfreq\tCogID\n",
      "a o\ta\to\t1\t512\n",
      "a e\ta\te\t2\t3, 4\n",
      "\n"
     ]
    }
   ],
   "source": [
    "import json\n",
    "from loanpy.utils import scjson2tsv\n",
    "\n",
    "sc = [{\"a\": [\"o\", \"e\"]}, {\"a o\": 1, \"a e\": 2}, {\"a o\": [512],\n",
    "       \"a e\": [3, 4]}, {\"CV\": [\"CV\"]}, {\"CV CV\": 1}, {\"CV CV\": [7]}]\n",
    "with open(\"sc.json\", \"w+\") as f:\n",
    "    json.dump(sc, f)\n",
    "    \n",
    "scjson2tsv(\"sc.json\", \"sc.tsv\", \"sc_p.tsv\")\n",
    "\n",
    "with open(\"sc.tsv\", \"r\") as f:\n",
    "    print(f.read())"
   ]
  },
  {
   "cell_type": "code",
   "execution_count": 21,
   "id": "2332d26c",
   "metadata": {},
   "outputs": [
    {
     "name": "stdout",
     "output_type": "stream",
     "text": [
      "sc\tsrc\ttgt\tfreq\tCogID\n",
      "CV CV\tCV\tCV\t1\t7\n",
      "\n"
     ]
    }
   ],
   "source": [
    "with open(\"sc_p.tsv\", \"r\") as f:\n",
    "    print(f.read())"
   ]
  },
  {
   "cell_type": "code",
   "execution_count": 23,
   "id": "4ba6add5",
   "metadata": {},
   "outputs": [
    {
     "ename": "FileNotFoundError",
     "evalue": "[Errno 2] No such file or directory: 'sc.tsv'",
     "output_type": "error",
     "traceback": [
      "\u001b[0;31m---------------------------------------------------------------------------\u001b[0m",
      "\u001b[0;31mFileNotFoundError\u001b[0m                         Traceback (most recent call last)",
      "Cell \u001b[0;32mIn[23], line 2\u001b[0m\n\u001b[1;32m      1\u001b[0m \u001b[38;5;28;01mimport\u001b[39;00m \u001b[38;5;21;01mos\u001b[39;00m\n\u001b[0;32m----> 2\u001b[0m \u001b[43mos\u001b[49m\u001b[38;5;241;43m.\u001b[39;49m\u001b[43mremove\u001b[49m\u001b[43m(\u001b[49m\u001b[38;5;124;43m\"\u001b[39;49m\u001b[38;5;124;43msc.tsv\u001b[39;49m\u001b[38;5;124;43m\"\u001b[39;49m\u001b[43m)\u001b[49m\n\u001b[1;32m      3\u001b[0m os\u001b[38;5;241m.\u001b[39mremove(\u001b[38;5;124m\"\u001b[39m\u001b[38;5;124msc_p.tsv\u001b[39m\u001b[38;5;124m\"\u001b[39m)\n",
      "\u001b[0;31mFileNotFoundError\u001b[0m: [Errno 2] No such file or directory: 'sc.tsv'"
     ]
    }
   ],
   "source": [
    "import os\n",
    "os.remove(\"sc.tsv\")\n",
    "os.remove(\"sc_p.tsv\")"
   ]
  }
 ],
 "metadata": {
  "kernelspec": {
   "display_name": "Python 3 (ipykernel)",
   "language": "python",
   "name": "python3"
  },
  "language_info": {
   "codemirror_mode": {
    "name": "ipython",
    "version": 3
   },
   "file_extension": ".py",
   "mimetype": "text/x-python",
   "name": "python",
   "nbconvert_exporter": "python",
   "pygments_lexer": "ipython3",
   "version": "3.8.10"
  }
 },
 "nbformat": 4,
 "nbformat_minor": 5
}
