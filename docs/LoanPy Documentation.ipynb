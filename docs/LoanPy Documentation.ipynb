{
 "cells": [
  {
   "cell_type": "code",
   "execution_count": 3,
   "id": "a36dddfd",
   "metadata": {},
   "outputs": [
    {
     "data": {
      "text/plain": [
       "1241"
      ]
     },
     "execution_count": 3,
     "metadata": {},
     "output_type": "execute_result"
    }
   ],
   "source": [
    ">>> from loanpy.utils import find_optimal_year_cutoff\n",
    ">>> tsv = [\n",
    ">>>         ['form', 'sense', 'Year', 'Etymology', 'Loan'],\n",
    ">>>         ['gulyás', 'goulash, Hungarian stew', '1800', 'unknown', ''],\n",
    ">>>         ['Tisza', 'a major river in Hungary', '1230', 'uncertain', ''],\n",
    ">>>         ['Pest', 'part of Budapest, the capital', '1241', 'Slavic', 'True'],\n",
    ">>>         ['paprika', 'ground red pepper, spice', '1598', 'Slavic', 'True']\n",
    ">>>       ]\n",
    ">>> find_optimal_year_cutoff(tsv, \"Slavic\")"
   ]
  },
  {
   "cell_type": "code",
   "execution_count": null,
   "id": "f5bfe173",
   "metadata": {},
   "outputs": [],
   "source": []
  }
 ],
 "metadata": {
  "kernelspec": {
   "display_name": "Python 3 (ipykernel)",
   "language": "python",
   "name": "python3"
  },
  "language_info": {
   "codemirror_mode": {
    "name": "ipython",
    "version": 3
   },
   "file_extension": ".py",
   "mimetype": "text/x-python",
   "name": "python",
   "nbconvert_exporter": "python",
   "pygments_lexer": "ipython3",
   "version": "3.8.10"
  }
 },
 "nbformat": 4,
 "nbformat_minor": 5
}
