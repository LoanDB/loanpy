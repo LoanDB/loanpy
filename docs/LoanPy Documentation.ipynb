{
 "cells": [
  {
   "cell_type": "code",
   "execution_count": 5,
   "id": "a36dddfd",
   "metadata": {},
   "outputs": [
    {
     "data": {
      "text/plain": [
       "1241"
      ]
     },
     "execution_count": 5,
     "metadata": {},
     "output_type": "execute_result"
    }
   ],
   "source": [
    "from loanpy.utils import find_optimal_year_cutoff\n",
    "tsv = [\n",
    "        ['form', 'sense', 'Year', 'Etymology', 'Loan'],\n",
    "        ['gulyás', 'goulash, Hungarian stew', '1861', 'internal', 'False'],\n",
    "        ['Tisza', 'a major river in Hungary', '1230', 'uncertain', ''],\n",
    "        ['Pest', 'part of Budapest, the capital', '1241', 'Slavic', 'True'],\n",
    "        ['paprika', 'ground red pepper, spice', '1748', 'Slavic', 'True']\n",
    "      ]\n",
    "find_optimal_year_cutoff(tsv, \"Slavic\")"
   ]
  },
  {
   "cell_type": "code",
   "execution_count": 6,
   "id": "4e82dd60",
   "metadata": {},
   "outputs": [
    {
     "data": {
      "text/plain": [
       "['b l V', 'b l a']"
      ]
     },
     "execution_count": 6,
     "metadata": {},
     "output_type": "execute_result"
    }
   ],
   "source": [
    "from loanpy.utils import cvgaps\n",
    "cvgaps(\"b l -\", \"b l a\")"
   ]
  },
  {
   "cell_type": "code",
   "execution_count": 7,
   "id": "d24a67c2",
   "metadata": {},
   "outputs": [
    {
     "data": {
      "text/plain": [
       "['b C a', 'b l a']"
      ]
     },
     "execution_count": 7,
     "metadata": {},
     "output_type": "execute_result"
    }
   ],
   "source": [
    "cvgaps(\"b - a\", \"b l a\")"
   ]
  },
  {
   "cell_type": "code",
   "execution_count": 8,
   "id": "b69dfec4",
   "metadata": {},
   "outputs": [
    {
     "data": {
      "text/plain": [
       "[['x', 'x', 'Language_ID', 'x', 'x', 'x', 'x', 'x', 'x', 'Cognacy', 'x'],\n",
       " ['x', 'x', 'de', 'x', 'x', 'x', 'x', 'x', 'x', '0', 'x'],\n",
       " ['x', 'x', 'en', 'x', 'x', 'x', 'x', 'x', 'x', '0', 'x'],\n",
       " ['x', 'x', 'de', 'x', 'x', 'x', 'x', 'x', 'x', '1', 'x'],\n",
       " ['x', 'x', 'en', 'x', 'x', 'x', 'x', 'x', 'x', '1', 'x'],\n",
       " ['x', 'x', 'de', 'x', 'x', 'x', 'x', 'x', 'x', '6', 'x'],\n",
       " ['x', 'x', 'en', 'x', 'x', 'x', 'x', 'x', 'x', '6', 'x']]"
      ]
     },
     "execution_count": 8,
     "metadata": {},
     "output_type": "execute_result"
    }
   ],
   "source": [
    "from loanpy.utils import prefilter\n",
    "data = [\n",
    "['x', 'x', 'Language_ID', 'x', 'x', 'x', 'x', 'x', 'x', 'Cognacy', 'x'],\n",
    "['x', 'x', 'de', 'x', 'x', 'x', 'x', 'x', 'x', '0', 'x'],\n",
    "['x', 'x', 'en', 'x', 'x', 'x', 'x', 'x', 'x', '0', 'x'],\n",
    "['x', 'x', 'en', 'x', 'x', 'x', 'x', 'x', 'x', '1', 'x'],\n",
    "['x', 'x', 'de', 'x', 'x', 'x', 'x', 'x', 'x', '1', 'x'],\n",
    "['x', 'x', 'de', 'x', 'x', 'x', 'x', 'x', 'x', '2', 'x'],\n",
    "['x', 'x', 'en', 'x', 'x', 'x', 'x', 'x', 'x', '3', 'x'],\n",
    "['x', 'x', 'nl', 'x', 'x', 'x', 'x', 'x', 'x', '4', 'x'],\n",
    "['x', 'x', 'de', 'x', 'x', 'x', 'x', 'x', 'x', '4', 'x'],\n",
    "['x', 'x', 'nl', 'x', 'x', 'x', 'x', 'x', 'x', '5', 'x'],\n",
    "['x', 'x', 'en', 'x', 'x', 'x', 'x', 'x', 'x', '5', 'x'],\n",
    "['x', 'x', 'de', 'x', 'x', 'x', 'x', 'x', 'x', '6', 'x'],\n",
    "['x', 'x', 'nl', 'x', 'x', 'x', 'x', 'x', 'x', '6', 'x'],\n",
    "['x', 'x', 'en', 'x', 'x', 'x', 'x', 'x', 'x', '6', 'x']\n",
    "]\n",
    "prefilter(data, \"de\", \"en\")"
   ]
  }
 ],
 "metadata": {
  "kernelspec": {
   "display_name": "Python 3 (ipykernel)",
   "language": "python",
   "name": "python3"
  },
  "language_info": {
   "codemirror_mode": {
    "name": "ipython",
    "version": 3
   },
   "file_extension": ".py",
   "mimetype": "text/x-python",
   "name": "python",
   "nbconvert_exporter": "python",
   "pygments_lexer": "ipython3",
   "version": "3.8.10"
  }
 },
 "nbformat": 4,
 "nbformat_minor": 5
}
