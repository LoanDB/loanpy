{
 "cells": [
  {
   "cell_type": "code",
   "execution_count": null,
   "metadata": {},
   "outputs": [],
   "source": [
    "import pandas as pd\n",
    "from loanpy.helpers import filterdf\n",
    "dfin=pd.read_csv(\"dfhun_zaicz_backup.csv\", encoding=\"utf-8\")\n",
    "dffiltered = filterdf(dfin, \"L1_suffix\", occurs_or_bigger=False, term=\"\\+\")\n",
    "filterdf(dffiltered, \"L1_year\", occurs_or_bigger=False, term=1600, write=True, name=\"example_dfhun_before1600.csv\")"
   ]
  },
  {
   "cell_type": "code",
   "execution_count": null,
   "metadata": {},
   "outputs": [],
   "source": [
    "import pandas as pd\n",
    "from loanpy.helpers import filterdf\n",
    "dfin=pd.read_csv(\"dfhun_zaicz_backup.csv\", encoding=\"utf-8\")\n",
    "dffiltered = filterdf(dfin, \"L1_suffix\", occurs_or_bigger=False, term=\"\\+\")\n",
    "dffiltered = filterdf(dffiltered, \"L1_year\", occurs_or_bigger=False, term=1600)\n",
    "filterdf(dffiltered, \"L1_language\", occurs_or_bigger=True, term=\"unknown\", write=True, name=\"example_dfhun_unknown.csv\")"
   ]
  },
  {
   "cell_type": "code",
   "execution_count": null,
   "metadata": {},
   "outputs": [],
   "source": [
    "from loanpy import loanfinder as lf\n",
    "lf.adapt_or_reconstruct_col(\n",
    "        inputcsv=\"dfhun_zaicz_before1600.csv\", inputcol=\"L1_ipa\",\n",
    "        funcname=\"reconstruct\", howmany=float(\"inf\"), struc=False,\n",
    "        vowelharmony=False, only_documented_clusters=False,\n",
    "        write=True, outputcsv=\"example_dfhun_before1600.csv\",\n",
    "        outputcol=\"example_rc\")"
   ]
  },
  {
   "cell_type": "code",
   "execution_count": null,
   "metadata": {},
   "outputs": [],
   "source": [
    "from loanpy import loanfinder as lf\n",
    "lf.adapt_or_reconstruct_col(\n",
    "        inputcsv=\"dfgot_wikiling_backup.csv\", inputcol=\"L2_ipa\",\n",
    "        funcname=\"adapt\", struc=True,howmany=1,\n",
    "        only_documented_clusters=False, vowelharmony=True,\n",
    "        write=True,\n",
    "        outputcsv=\"example_dfgot.csv\", outputcol=\"example_ad\")"
   ]
  },
  {
   "cell_type": "code",
   "execution_count": null,
   "metadata": {},
   "outputs": [],
   "source": [
    "import pandas as pd\n",
    "from loanpy import loanfinder as lf\n",
    "lf.dfL2 = pd.read_csv(\"dfgot_wiktionary_backup.csv\",\n",
    "                           encoding=\"utf-8\")[\"L2_latin\"]\n",
    "lf.findphoneticmatches(\"^anna$\", 5)"
   ]
  },
  {
   "cell_type": "code",
   "execution_count": null,
   "metadata": {},
   "outputs": [],
   "source": [
    "import pandas as pd\n",
    "from loanpy import loanfinder as lf\n",
    "lf.dfL2 = pd.read_csv(\"dfgot_wiktionary_backup.csv\",\n",
    "                           encoding=\"utf-8\")[\"L2_latin\"]\n",
    "lf.findphoneticmatches(\"^abraham$|^anna$\", 123)"
   ]
  },
  {
   "cell_type": "code",
   "execution_count": null,
   "metadata": {},
   "outputs": [],
   "source": [
    "import pandas as pd\n",
    "from loanpy import loanfinder as lf\n",
    "lf.dfL2 = pd.read_csv(\"dfgot_wiktionary_backup.csv\",\n",
    "                           encoding=\"utf-8\")[\"L2_latin\"]\n",
    "lf.findphoneticmatches(\"^a(nn|br)a(ham)?$\", 5)"
   ]
  },
  {
   "cell_type": "code",
   "execution_count": null,
   "metadata": {},
   "outputs": [],
   "source": [
    "from loanpy import loanfinder as lf\n",
    "lf.findloans(\"example\", \"example_dfhun_before1600.csv\", \"example_dfgot.csv\", \"example_rc\", \"example_ad\")"
   ]
  },
  {
   "cell_type": "code",
   "execution_count": null,
   "metadata": {},
   "outputs": [],
   "source": [
    "from loanpy import adapter as ad\n",
    "ad.launch()\n",
    "ad.substidict"
   ]
  },
  {
   "cell_type": "code",
   "execution_count": null,
   "metadata": {},
   "outputs": [],
   "source": [
    "from loanpy import adapter as ad\n",
    "ad.launch()\n",
    "ad.allowedphonotactics"
   ]
  },
  {
   "cell_type": "code",
   "execution_count": null,
   "metadata": {},
   "outputs": [],
   "source": [
    "from loanpy import adapter as ad\n",
    "ad.launch()\n",
    "ad.scvalues"
   ]
  },
  {
   "cell_type": "code",
   "execution_count": null,
   "metadata": {},
   "outputs": [],
   "source": [
    "from loanpy import adapter as ad\n",
    "ad.launch()\n",
    "ad.adapt(\"wulɸɪla\", howmany=float(\"inf\"), struc=False,\n",
    "              only_documented_clusters=False, vowelharmony=False)"
   ]
  },
  {
   "cell_type": "code",
   "execution_count": null,
   "metadata": {},
   "outputs": [],
   "source": [
    "from loanpy import adapter as ad\n",
    "ad.launch()\n",
    "ad.allowedphonotactics = [\"CVCVCVCV\",\"CVCV\"]\n",
    "ad.adapt(\"wulɸɪla\", howmany=2, struc=True,\n",
    "              vowelharmony=False, only_documented_clusters=False)"
   ]
  },
  {
   "cell_type": "code",
   "execution_count": null,
   "metadata": {},
   "outputs": [],
   "source": [
    "from loanpy import adapter as ad\n",
    "ad.launch()\n",
    "ad.adapt(\"wulɸɪla\", howmany=5, struc=False,\n",
    "              vowelharmony=True, only_documented_clusters=False)"
   ]
  },
  {
   "cell_type": "code",
   "execution_count": null,
   "metadata": {},
   "outputs": [],
   "source": [
    "from loanpy import adapter as ad\n",
    "ad.launch()\n",
    "ad.adapt(\"wulɸɪla\", howmany=5, struc=False,\n",
    "              vowelharmony=True, only_documented_clusters=True)"
   ]
  },
  {
   "cell_type": "code",
   "execution_count": null,
   "metadata": {},
   "outputs": [],
   "source": [
    "from loanpy import reconstructor as rc\n",
    "rc.launch()\n",
    "rc.scdict"
   ]
  },
  {
   "cell_type": "code",
   "execution_count": null,
   "metadata": {},
   "outputs": [],
   "source": [
    "from loanpy import reconstructor as rc\n",
    "rc.launch()\n",
    "rc.allowedphonotactics"
   ]
  },
  {
   "cell_type": "code",
   "execution_count": null,
   "metadata": {},
   "outputs": [],
   "source": [
    "from loanpy import reconstructor as rc\n",
    "rc.launch()\n",
    "rc.nsedict"
   ]
  },
  {
   "cell_type": "code",
   "execution_count": null,
   "metadata": {},
   "outputs": [],
   "source": [
    "from loanpy import reconstructor as rc\n",
    "rc.launch(se_or_edict=\"edict.txt\")\n",
    "rc.nsedict"
   ]
  },
  {
   "cell_type": "code",
   "execution_count": null,
   "metadata": {},
   "outputs": [],
   "source": [
    "from loanpy import reconstructor as rc\n",
    "rc.getsoundchanges(\"ɟɒloɡ\", \"jɑlkɑ\")"
   ]
  },
  {
   "cell_type": "code",
   "execution_count": null,
   "metadata": {},
   "outputs": [],
   "source": [
    "from loanpy import reconstructor as rc\n",
    "rc.dfetymology2dict()"
   ]
  },
  {
   "cell_type": "code",
   "execution_count": null,
   "metadata": {},
   "outputs": [],
   "source": [
    "from loanpy import reconstructor as rc\n",
    "rc.launch()\n",
    "rc.getnse(\"ɟɒloɡ\",\"jɑlkɑ\")"
   ]
  },
  {
   "cell_type": "code",
   "execution_count": null,
   "metadata": {},
   "outputs": [],
   "source": [
    "from loanpy import reconstructor as rc\n",
    "rc.launch(se_or_edict=\"edict.txt\")\n",
    "rc.getnse(\"ɟɒloɡ\", \"jɑlkɑ\", examples=True)"
   ]
  },
  {
   "cell_type": "code",
   "execution_count": null,
   "metadata": {},
   "outputs": [],
   "source": [
    "from loanpy import reconstructor as rc\n",
    "rc.launch(se_or_edict=\"sedict.txt\")\n",
    "rc.getnse(\"ɟɒloɡ\", \"jɑlkɑ\", normalise=False)"
   ]
  },
  {
   "cell_type": "code",
   "execution_count": null,
   "metadata": {},
   "outputs": [],
   "source": [
    "from loanpy import reconstructor as rc\n",
    "rc.launch(se_or_edict=\"sedict.txt\")\n",
    "rc.getnse(\"ɟɒloɡ\", \"jɑlkɑ\", examples=True)"
   ]
  },
  {
   "cell_type": "code",
   "execution_count": null,
   "metadata": {},
   "outputs": [],
   "source": [
    "from loanpy import reconstructor as rc\n",
    "rc.launch()\n",
    "rc.reconstruct('mɒɟɒr', howmany=100)"
   ]
  },
  {
   "cell_type": "code",
   "execution_count": null,
   "metadata": {},
   "outputs": [],
   "source": [
    "from loanpy import reconstructor as rc\n",
    "rc.launch()\n",
    "rc.reconstruct(\"mɒɟɒr\", howmany=5, struc=True,\n",
    "                    vowelharmony=True, sort_by_nse=True)"
   ]
  },
  {
   "cell_type": "code",
   "execution_count": null,
   "metadata": {},
   "outputs": [],
   "source": [
    "from loanpy.helpers import phon2cv\n",
    "phon2cv(\"p\")"
   ]
  },
  {
   "cell_type": "code",
   "execution_count": null,
   "metadata": {},
   "outputs": [],
   "source": [
    "phon2cv(\"a\")"
   ]
  },
  {
   "cell_type": "code",
   "execution_count": null,
   "metadata": {},
   "outputs": [],
   "source": [
    "from loanpy.helpers import word2struc\n",
    "word2struc(\"mɒɟɒr\")"
   ]
  },
  {
   "cell_type": "code",
   "execution_count": null,
   "metadata": {},
   "outputs": [],
   "source": [
    "from loanpy.helpers import ipa2clusters\n",
    "ipa2clusters(\"roflmao\")"
   ]
  },
  {
   "cell_type": "code",
   "execution_count": null,
   "metadata": {},
   "outputs": [],
   "source": [
    "from loanpy.helpers import list2regex\n",
    "list2regex([\"b\", \"k\", \"v\"])"
   ]
  },
  {
   "cell_type": "code",
   "execution_count": null,
   "metadata": {},
   "outputs": [],
   "source": [
    "from loanpy.helpers import list2regex\n",
    "list2regex([\"b\", \"k\", \"0\", \"v\"])"
   ]
  },
  {
   "cell_type": "code",
   "execution_count": null,
   "metadata": {},
   "outputs": [],
   "source": [
    "from loanpy.helpers import editdistancewith2ops\n",
    "editdistancewith2ops(\"hey\",\"hey\")"
   ]
  },
  {
   "cell_type": "code",
   "execution_count": null,
   "metadata": {},
   "outputs": [],
   "source": [
    "from loanpy.helpers import editdistancewith2ops\n",
    "editdistancewith2ops(\"hey\",\"he\")"
   ]
  },
  {
   "cell_type": "code",
   "execution_count": null,
   "metadata": {},
   "outputs": [],
   "source": [
    "from loanpy.helpers import editdistancewith2ops\n",
    "editdistancewith2ops(\"hey\",\"heyy\")"
   ]
  },
  {
   "cell_type": "code",
   "execution_count": null,
   "metadata": {},
   "outputs": [],
   "source": [
    "from loanpy.helpers import loadvectors, gensim_similarity\n",
    "loadvectors()\n",
    "gensim_similarity(\"house, sing, hello\", \"cottage, regrettable, car\",\n",
    "                       return_wordpair=False)"
   ]
  },
  {
   "cell_type": "code",
   "execution_count": null,
   "metadata": {},
   "outputs": [],
   "source": [
    "from loanpy.helpers import loadvectors, gensim_similarity\n",
    "loadvectors()\n",
    "gensim_similarity(\"house, sing, hello\", \"cottage, regrettable, car\",\n",
    "                       return_wordpair=True)"
   ]
  },
  {
   "cell_type": "code",
   "execution_count": null,
   "metadata": {},
   "outputs": [],
   "source": [
    "# import default vectors\n",
    "from loanpy.helpers import loadvectors\n",
    "loadvectors()"
   ]
  },
  {
   "cell_type": "code",
   "execution_count": null,
   "metadata": {},
   "outputs": [],
   "source": [
    "# now load some other vectors\n",
    "from loanpy import helpers\n",
    "helpers.model=None\n",
    "helpers.loadvectors(\"glove-twitter-25\")"
   ]
  },
  {
   "cell_type": "code",
   "execution_count": null,
   "metadata": {},
   "outputs": [],
   "source": [
    "from loanpy.helpers import vow2frontback\n",
    "vow2frontback(\"e\")"
   ]
  },
  {
   "cell_type": "code",
   "execution_count": null,
   "metadata": {},
   "outputs": [],
   "source": [
    "vow2frontback(\"o\")"
   ]
  },
  {
   "cell_type": "code",
   "execution_count": null,
   "metadata": {},
   "outputs": [],
   "source": [
    "from loanpy.helpers import harmony\n",
    "harmony(\"bot͡sibot͡si\")"
   ]
  },
  {
   "cell_type": "code",
   "execution_count": null,
   "metadata": {},
   "outputs": [],
   "source": [
    "from loanpy.helpers import harmony\n",
    "harmony([\"t\", \"ɒ\", \"r\", \"k\", \"ɒ\"])"
   ]
  },
  {
   "cell_type": "code",
   "execution_count": null,
   "metadata": {},
   "outputs": [],
   "source": [
    "from loanpy.helpers import harmony\n",
    "harmony(\"ʃɛfylɛʃɛ\")"
   ]
  },
  {
   "cell_type": "code",
   "execution_count": null,
   "metadata": {},
   "outputs": [],
   "source": [
    "from loanpy.helpers import adaptharmony\n",
    "adaptharmony('kɛsthɛj')"
   ]
  },
  {
   "cell_type": "code",
   "execution_count": null,
   "metadata": {},
   "outputs": [],
   "source": [
    "from loanpy.helpers import adaptharmony\n",
    "adaptharmony(['ɒ', 'l', 'ʃ', 'oː', 'ø', 'r', 'ʃ'])"
   ]
  },
  {
   "cell_type": "code",
   "execution_count": null,
   "metadata": {},
   "outputs": [],
   "source": [
    "from loanpy.helpers import adaptharmony\n",
    "adaptharmony('ʃioːfok')"
   ]
  },
  {
   "cell_type": "code",
   "execution_count": null,
   "metadata": {},
   "outputs": [],
   "source": [
    "from loanpy.helpers import adaptharmony\n",
    "adaptharmony(['b', 'ɒ', 'l', 'ɒ', 't', 'o', 'n', 'k', 'ɛ', 'n', 'ɛ', 'ʃ', 'ɛ'])"
   ]
  }
 ],
 "metadata": {
  "kernelspec": {
   "display_name": "Python 3",
   "language": "python",
   "name": "python3"
  },
  "language_info": {
   "codemirror_mode": {
    "name": "ipython",
    "version": 3
   },
   "file_extension": ".py",
   "mimetype": "text/x-python",
   "name": "python",
   "nbconvert_exporter": "python",
   "pygments_lexer": "ipython3",
   "version": "3.8.1"
  }
 },
 "nbformat": 4,
 "nbformat_minor": 4
}
